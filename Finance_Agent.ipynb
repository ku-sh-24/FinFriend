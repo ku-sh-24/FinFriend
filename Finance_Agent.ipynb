{
 "cells": [
  {
   "cell_type": "code",
   "execution_count": 156,
   "metadata": {},
   "outputs": [],
   "source": [
    "import os\n",
    "import getpass\n",
    "from langchain_groq import ChatGroq\n",
    "from pydantic import BaseModel, Field\n",
    "from typing_extensions import TypedDict\n",
    "from langgraph.graph import StateGraph, START, END\n",
    "from IPython.display import Image, display\n",
    "from typing_extensions import Literal\n",
    "from langchain_core.messages import SystemMessage, HumanMessage, AnyMessage, ToolMessage\n",
    "from dotenv import load_dotenv\n",
    "from langchain.prompts import ChatPromptTemplate\n",
    "from langchain.schema.output_parser import StrOutputParser\n",
    "from langchain.schema.runnable import RunnableParallel, RunnableLambda, RunnableBranch\n",
    "from langchain_core.tools import tool, StructuredTool\n",
    "import yfinance as yf\n",
    "import requests\n",
    "from typing import Dict, Any, List, Optional\n",
    "from langsmith import traceable\n",
    "from tavily import TavilyClient\n",
    "from langchain_core.runnables import RunnableConfig\n",
    "from dataclasses import dataclass, fields, field\n",
    "import json\n",
    "from typing_extensions import TypedDict, Annotated, Literal\n",
    "import operator\n",
    "from IPython.display import Markdown\n",
    "from bs4 import BeautifulSoup\n",
    "from urllib.request import urlopen\n",
    "from enum import Enum"
   ]
  },
  {
   "cell_type": "code",
   "execution_count": 157,
   "metadata": {},
   "outputs": [
    {
     "data": {
      "text/plain": [
       "True"
      ]
     },
     "execution_count": 157,
     "metadata": {},
     "output_type": "execute_result"
    }
   ],
   "source": [
    "load_dotenv()"
   ]
  },
  {
   "cell_type": "code",
   "execution_count": 158,
   "metadata": {},
   "outputs": [],
   "source": [
    "llm = ChatGroq(model_name = 'Gemma2-9b-it', api_key = os.getenv('GROQ_API_KEY'))"
   ]
  },
  {
   "cell_type": "markdown",
   "metadata": {},
   "source": [
    "## Prompt"
   ]
  },
  {
   "cell_type": "code",
   "execution_count": 159,
   "metadata": {},
   "outputs": [],
   "source": [
    "query_writer_instruction_web = \"\"\"Your goal is to generate a targeted web search query related to financial investments or any finance-related topic specified by the user.\n",
    "\n",
    "<TOPIC>\n",
    "{finance_topic}\n",
    "</TOPIC>\n",
    "\n",
    "<FORMAT>\n",
    "Format your response as a JSON object with ALL three of these exact keys:\n",
    "   - \"query\": The actual search query string\n",
    "   - \"aspect\": The specific aspect of the finance topic being researched\n",
    "   - \"rationale\": Brief explanation of why this query is relevant\n",
    "</FORMAT>\n",
    "\n",
    "<EXAMPLE>\n",
    "Example output:\n",
    "{{\n",
    "    \"query\": \"best index funds for long-term investment 2025\",\n",
    "    \"aspect\": \"investment strategy\",\n",
    "    \"rationale\": \"Identifying top-performing index funds for long-term portfolio growth\"\n",
    "}}\n",
    "</EXAMPLE>\n",
    "\n",
    "Provide your response in JSON format:\n",
    "\"\"\"\n",
    "\n",
    "summarizer_instruction_web = \"\"\"<GOAL>\n",
    "Generate a high-quality summary of the web search results, focusing on financial investments or the specific finance-related topic requested by the user.\n",
    "</GOAL>\n",
    "\n",
    "<REQUIREMENTS>\n",
    "When creating a NEW summary:\n",
    "1. Highlight the most relevant financial insights, trends, or strategies from the search results.\n",
    "2. Ensure a coherent flow of information while keeping it concise and actionable.\n",
    "\n",
    "When EXTENDING an existing summary:\n",
    "1. Read the existing summary and new search results carefully.\n",
    "2. Compare the new information with the existing summary.\n",
    "3. For each piece of new information:\n",
    "    a. If it builds on an existing point, integrate it smoothly.\n",
    "    b. If it introduces a new relevant aspect, add a separate paragraph.\n",
    "    c. If it’s irrelevant to financial investments, ignore it.\n",
    "4. Ensure all additions align with the user’s finance-related query.\n",
    "5. Verify that the final output differs from the original summary while improving its depth.\n",
    "\n",
    "<FORMATTING>\n",
    "- Start directly with the updated summary, without preamble or titles. Do not use XML tags in the output.\n",
    "</FORMATTING>\n",
    "\"\"\"\n",
    "\n",
    "reflection_instructions_web = \"\"\"You are an expert financial research assistant analyzing a summary about {finance_topic}.\n",
    "\n",
    "<GOAL>\n",
    "1. Identify missing details or areas that need deeper exploration.\n",
    "2. Generate a follow-up question to help expand financial knowledge.\n",
    "3. Focus on investment strategies, market trends, risk factors, regulations, or financial instruments that weren’t fully covered.\n",
    "</GOAL>\n",
    "\n",
    "<REQUIREMENTS>\n",
    "Ensure the follow-up question is self-contained and provides necessary context for a web search.\n",
    "</REQUIREMENTS>\n",
    "\n",
    "<FORMAT>\n",
    "Format your response as a JSON object with these exact keys:\n",
    "- \"knowledge_gap\": Describe what financial information is missing or unclear.\n",
    "- \"follow_up_query\": Write a specific question to address this gap.\n",
    "</FORMAT>\n",
    "\n",
    "<EXAMPLE>\n",
    "Example output:\n",
    "{{\n",
    "    \"knowledge_gap\": \"The summary does not mention tax implications of investing in ETFs vs. mutual funds.\",\n",
    "    \"follow_up_query\": \"What are the tax advantages and disadvantages of ETFs compared to mutual funds?\"\n",
    "}}\n",
    "</EXAMPLE>\n",
    "\n",
    "Provide your analysis in JSON format:\n",
    "\"\"\"\n"
   ]
  },
  {
   "cell_type": "markdown",
   "metadata": {},
   "source": [
    "## States"
   ]
  },
  {
   "cell_type": "code",
   "execution_count": 160,
   "metadata": {},
   "outputs": [],
   "source": [
    "class State(TypedDict):\n",
    "    route: Literal['Web_query', 'Normal_query', 'Financial_Analysis'] = Field(None)\n",
    "    research_topic: str = \"\"\n",
    "    search_query: str = \"\"\n",
    "    web_research_results: Annotated[list, operator.add] = []\n",
    "    sources_gathered: Annotated[list, operator.add] = []\n",
    "    research_loop_count: int = 0\n",
    "    running_summary: str = \"\"\n",
    "    messages: Annotated[list, operator.add] = []"
   ]
  },
  {
   "cell_type": "code",
   "execution_count": 161,
   "metadata": {},
   "outputs": [],
   "source": [
    "def create_initial_state(user_query: str):\n",
    "    return {\n",
    "        \"route\": None,\n",
    "        \"research_topic\": user_query,\n",
    "        \"search_query\": \"\",\n",
    "        \"web_research_results\": [],\n",
    "        \"sources_gathered\": [],\n",
    "        \"research_loop_count\": 0,\n",
    "        \"running_summary\": \"\",\n",
    "        \"messages\": [HumanMessage(content=user_query)]\n",
    "    }"
   ]
  },
  {
   "cell_type": "markdown",
   "metadata": {},
   "source": [
    "## First Routing Step"
   ]
  },
  {
   "cell_type": "code",
   "execution_count": 162,
   "metadata": {},
   "outputs": [],
   "source": [
    "class Route_First_Step(BaseModel):\n",
    "    step: Literal['Web_query', 'Normal_query', 'Financial_Analysis'] = Field(None, description = 'Given the query, determine whether to perform a web search, answer a normal question(like a definition), or perform a financial analysis(for which you have tools).')"
   ]
  },
  {
   "cell_type": "code",
   "execution_count": 163,
   "metadata": {},
   "outputs": [],
   "source": [
    "class SearchAPI(Enum):\n",
    "    PERPLEXITY = \"perplexity\"\n",
    "    TAVILY = \"tavily\"\n",
    "    DUCKDUCKGO = \"duckduckgo\"\n",
    "\n",
    "@dataclass(kw_only=True)\n",
    "class Configuration:\n",
    "    \"\"\"The configurable fields for the research assistant.\"\"\"\n",
    "    max_web_research_loops: int = int(os.environ.get(\"MAX_WEB_RESEARCH_LOOPS\", \"3\"))\n",
    "    #local_llm: str = llm\n",
    "    search_api: SearchAPI = SearchAPI(os.environ.get(\"SEARCH_API\", SearchAPI.TAVILY.value))  # Default to DUCKDUCKGO\n",
    "    fetch_full_page: bool = os.environ.get(\"FETCH_FULL_PAGE\", \"False\").lower() in (\"true\", \"1\", \"t\")\n",
    "    ollama_base_url: str = os.environ.get(\"OLLAMA_BASE_URL\", \"http://localhost:11434/\")\n",
    "\n",
    "    @classmethod\n",
    "    def from_runnable_config(\n",
    "        cls, config: Optional[RunnableConfig] = None\n",
    "    ) -> \"Configuration\":\n",
    "        \"\"\"Create a Configuration instance from a RunnableConfig.\"\"\"\n",
    "        configurable = (\n",
    "            config[\"configurable\"] if config and \"configurable\" in config else {}\n",
    "        )\n",
    "        values: dict[str, Any] = {\n",
    "            f.name: os.environ.get(f.name.upper(), configurable.get(f.name))\n",
    "            for f in fields(cls)\n",
    "            if f.init\n",
    "        }\n",
    "        return cls(**{k: v for k, v in values.items() if v})"
   ]
  },
  {
   "cell_type": "code",
   "execution_count": 164,
   "metadata": {},
   "outputs": [],
   "source": [
    "@traceable\n",
    "def tavily_search(query, include_raw_content=True, max_results=3):\n",
    "    \"\"\" Search the web using the Tavily API.\n",
    "\n",
    "    Args:\n",
    "        query (str): The search query to execute\n",
    "        include_raw_content (bool): Whether to include the raw_content from Tavily in the formatted string\n",
    "        max_results (int): Maximum number of results to return\n",
    "\n",
    "    Returns:\n",
    "        dict: Search response containing:\n",
    "            - results (list): List of search result dictionaries, each containing:\n",
    "                - title (str): Title of the search result\n",
    "                - url (str): URL of the search result\n",
    "                - content (str): Snippet/summary of the content\n",
    "                - raw_content (str): Full content of the page if available\"\"\"\n",
    "\n",
    "    api_key = os.environ['TAVILY_API_KEY']\n",
    "    if not api_key:\n",
    "        raise ValueError(\"TAVILY_API_KEY environment variable is not set\")\n",
    "    tavily_client = TavilyClient(api_key=api_key)\n",
    "    return tavily_client.search(query,\n",
    "                         max_results=max_results,\n",
    "                         include_raw_content=include_raw_content)\n",
    "\n",
    "def deduplicate_and_format_sources(search_response, max_tokens_per_source, include_raw_content=False):\n",
    "    \"\"\"\n",
    "    Takes either a single search response or list of responses from search APIs and formats them.\n",
    "    Limits the raw_content to approximately max_tokens_per_source.\n",
    "    include_raw_content specifies whether to include the raw_content from Tavily in the formatted string.\n",
    "\n",
    "    Args:\n",
    "        search_response: Either:\n",
    "            - A dict with a 'results' key containing a list of search results\n",
    "            - A list of dicts, each containing search results\n",
    "\n",
    "    Returns:\n",
    "        str: Formatted string with deduplicated sources\n",
    "    \"\"\"\n",
    "    # Convert input to list of results\n",
    "    if isinstance(search_response, dict):\n",
    "        sources_list = search_response['results']\n",
    "    elif isinstance(search_response, list):\n",
    "        sources_list = []\n",
    "        for response in search_response:\n",
    "            if isinstance(response, dict) and 'results' in response:\n",
    "                sources_list.extend(response['results'])\n",
    "            else:\n",
    "                sources_list.extend(response)\n",
    "    else:\n",
    "        raise ValueError(\"Input must be either a dict with 'results' or a list of search results\")\n",
    "\n",
    "    # Deduplicate by URL\n",
    "    unique_sources = {}\n",
    "    for source in sources_list:\n",
    "        if source['url'] not in unique_sources:\n",
    "            unique_sources[source['url']] = source\n",
    "\n",
    "    # Format output\n",
    "    formatted_text = \"Sources:\\n\\n\"\n",
    "    for i, source in enumerate(unique_sources.values(), 1):\n",
    "        formatted_text += f\"Source {source['title']}:\\n===\\n\"\n",
    "        formatted_text += f\"URL: {source['url']}\\n===\\n\"\n",
    "        formatted_text += f\"Most relevant content from source: {source['content']}\\n===\\n\"\n",
    "        if include_raw_content:\n",
    "            # Using rough estimate of 4 characters per token\n",
    "            char_limit = max_tokens_per_source * 4\n",
    "            # Handle None raw_content\n",
    "            raw_content = source.get('raw_content', '')\n",
    "            if raw_content is None:\n",
    "                raw_content = ''\n",
    "                print(f\"Warning: No raw_content found for source {source['url']}\")\n",
    "            if len(raw_content) > char_limit:\n",
    "                raw_content = raw_content[:char_limit] + \"... [truncated]\"\n",
    "            formatted_text += f\"Full source content limited to {max_tokens_per_source} tokens: {raw_content}\\n\\n\"\n",
    "\n",
    "    return formatted_text.strip()\n",
    "\n",
    "def format_sources(search_results):\n",
    "    \"\"\"Format search results into a bullet-point list of sources.\n",
    "\n",
    "    Args:\n",
    "        search_results (dict): Tavily search response containing results\n",
    "\n",
    "    Returns:\n",
    "        str: Formatted string with sources and their URLs\n",
    "    \"\"\"\n",
    "    return '\\n'.join(\n",
    "        f\"* {source['title']} : {source['url']}\"\n",
    "        for source in search_results['results']\n",
    "    )\n",
    "\n",
    "def generate_query(state: State, config: RunnableConfig):\n",
    "    \"\"\"Generate a query for web search.\"\"\"\n",
    "    # Format the prompt using the correct placeholder\n",
    "    query_writer_instruction_web_formatted = query_writer_instruction_web.format(finance_topic=state[\"research_topic\"])\n",
    "    prompt = query_writer_instruction_web_formatted + \"\\nGenerate a query for web search:\"\n",
    "\n",
    "    result = llm.invoke(prompt)\n",
    "    output_text = result.content.strip()\n",
    "# In generate_query function:\n",
    "    try:\n",
    "        query_data = json.loads(output_text)\n",
    "        return {\"search_query\": query_data['query']}\n",
    "    except (json.JSONDecodeError, KeyError) as e:\n",
    "        print(f\"Error parsing JSON: {e}\")\n",
    "        return {\"search_query\": f\"comprehensive analysis of {state['research_topic']}\"}\n",
    "\n",
    "def web_research(state: State, config: RunnableConfig):\n",
    "    \"\"\"Gather information from the web.\"\"\"\n",
    "    configurable = Configuration.from_runnable_config(config)\n",
    "\n",
    "    # Determine which search API to use\n",
    "    if isinstance(configurable.search_api, str):\n",
    "        search_api = configurable.search_api\n",
    "    else:\n",
    "        search_api = configurable.search_api.value\n",
    "\n",
    "    if search_api == \"tavily\":\n",
    "        search_results = tavily_search(state[\"search_query\"], include_raw_content=True, max_results=1)\n",
    "        search_str = deduplicate_and_format_sources(search_results, max_tokens_per_source=1000, include_raw_content=True)\n",
    "    else:\n",
    "        raise ValueError(f\"Unsupported search API: {configurable.search_api}\")\n",
    "\n",
    "    return {\n",
    "        \"sources_gathered\": [format_sources(search_results)],\n",
    "        \"research_loop_count\": state[\"research_loop_count\"] + 1,\n",
    "        \"web_research_results\": [search_str]\n",
    "    }\n",
    "\n",
    "\n",
    "def summarize_sources(state: State, config: RunnableConfig):\n",
    "    \"\"\"Summarize the gathered sources.\"\"\"\n",
    "    # Existing summary and most recent search results\n",
    "    existing_summary = state['running_summary']\n",
    "    most_recent_web_research = state['web_research_results'][-1]\n",
    "\n",
    "    if existing_summary:\n",
    "        human_message_content = (\n",
    "            f\"<User Input> \\n {state['research_topic']} \\n <User Input>\\n\\n\"\n",
    "            f\"<Existing Summary> \\n {existing_summary} \\n <Existing Summary>\\n\\n\"\n",
    "            f\"<New Search Results> \\n {most_recent_web_research} \\n <New Search Results>\"\n",
    "        )\n",
    "    else:\n",
    "        human_message_content = (\n",
    "            f\"<User Input> \\n {state['research_topic']} \\n <User Input>\\n\\n\"\n",
    "            f\"<Search Results> \\n {most_recent_web_research} \\n <Search Results>\"\n",
    "        )\n",
    "\n",
    "    prompt = summarizer_instruction_web + \"\\n\" + human_message_content\n",
    "\n",
    "    result = llm.invoke(prompt)\n",
    "    running_summary = result.content\n",
    "\n",
    "    # Remove any unwanted <think> tags\n",
    "    while \"<think>\" in running_summary and \"</think>\" in running_summary:\n",
    "        start = running_summary.find(\"<think>\")\n",
    "        end = running_summary.find(\"</think>\") + len(\"</think>\")\n",
    "        running_summary = running_summary[:start] + running_summary[end:]\n",
    "\n",
    "    return {\"running_summary\": running_summary}\n",
    "\n",
    "def reflect_on_summary(state: State, config: RunnableConfig):\n",
    "    \"\"\"Reflect on the summary and generate a follow-up query.\"\"\"\n",
    "    prompt = (\n",
    "        reflection_instructions_web.format(finance_topic=state['research_topic'])\n",
    "        + \"\\nIdentify a knowledge gap and generate a follow-up web search query based on our existing knowledge: \"\n",
    "        + state['running_summary']\n",
    "    )\n",
    "\n",
    "    result = llm.invoke(prompt)\n",
    "    \n",
    "    output_text = result.content.strip()\n",
    "    try:\n",
    "        follow_up_query = json.loads(output_text)\n",
    "    except json.JSONDecodeError:\n",
    "        print(\"Error: Could not decode JSON from reflect_on_summary. Response was:\", output_text)\n",
    "        # Fallback: Return a default follow-up query\n",
    "        follow_up_query = {\"follow_up_query\": f\"Tell me more about {state['research_topic']}\"}\n",
    "\n",
    "    query = follow_up_query.get('follow_up_query')\n",
    "    if not query:\n",
    "        return {\"search_query\": f\"Tell me more about {state['research_topic']}\"}\n",
    "    return {\"search_query\": query}\n",
    "\n",
    "\n",
    "def finalize_summary(state: State):\n",
    "    \"\"\"Finalize the summary by aggregating all source information.\"\"\"\n",
    "    all_sources = \"\\n\".join(source for source in state['sources_gathered'])\n",
    "    final_summary = f\"## Summary\\n\\n{state['running_summary']}\\n\\n### Sources:\\n{all_sources}\"\n",
    "    \n",
    "    # Create a consistent message output\n",
    "    final_message = HumanMessage(content=final_summary)\n",
    "    \n",
    "    return {\n",
    "        \"running_summary\": final_summary,\n",
    "        \"messages\": [final_message]  # Add this to ensure consistency with other branches\n",
    "    }\n",
    "\n",
    "def route_research(state: State, config: RunnableConfig) -> Literal[\"finalize_summary\", \"web_research\"]:\n",
    "    configurable = Configuration.from_runnable_config(config)\n",
    "    if state['research_loop_count'] < configurable.max_web_research_loops:  # Changed to <\n",
    "        return \"web_research\"\n",
    "    return \"finalize_summary\""
   ]
  },
  {
   "cell_type": "code",
   "execution_count": 165,
   "metadata": {},
   "outputs": [],
   "source": [
    "router = llm.with_structured_output(Route_First_Step)"
   ]
  },
  {
   "cell_type": "code",
   "execution_count": 166,
   "metadata": {},
   "outputs": [],
   "source": [
    "def call_route_first_step(state: State):\n",
    "    \n",
    "    # Make the routing decision\n",
    "    decision = router.invoke(state[\"research_topic\"])\n",
    "    \n",
    "    # Update the state with the route and research_topic\n",
    "    return {\n",
    "        \"route\": decision.step,\n",
    "    }"
   ]
  },
  {
   "cell_type": "code",
   "execution_count": 167,
   "metadata": {},
   "outputs": [],
   "source": [
    "def validate_state_transition(old_state: State, new_state: State):\n",
    "    required_fields = set(State.__annotations__.keys())\n",
    "    missing = required_fields - set(new_state.keys())\n",
    "    if missing:\n",
    "        raise ValueError(f\"Missing state updates for: {missing}\")\n",
    "    return True"
   ]
  },
  {
   "cell_type": "code",
   "execution_count": 188,
   "metadata": {},
   "outputs": [],
   "source": [
    "from langchain_core.tools import tool, StructuredTool\n",
    "import yfinance as yf\n",
    "\n",
    "\n",
    "\n",
    "@tool\n",
    "def company_address(ticker: str) -> str:\n",
    "    \"\"\"\n",
    "    Returns company address for input ticker.\n",
    "    e.g. company_address: AAPL\n",
    "    Returns company address for ticker AAPL which is stock ticker for Apple Inc.\n",
    "    \"\"\"\n",
    "    ticker_obj = yf.Ticker(ticker)\n",
    "    info = ticker_obj.get_info()\n",
    "\n",
    "    return \" \".join([info[key] for key in ['address1','city','state','zip','country']])\n",
    "\n",
    "@tool\n",
    "def fulltime_employees(ticker: str) -> int:\n",
    "    \"\"\"\n",
    "    Returns fulltime employees count for input ticker.\n",
    "    e.g. company_address: MSFT\n",
    "    Returns fulltime employees count for ticker MSFT which is stock ticker for Microsoft.\n",
    "    \"\"\"\n",
    "    ticker_obj = yf.Ticker(ticker)\n",
    "    info = ticker_obj.get_info()\n",
    "\n",
    "    return info['fullTimeEmployees']\n",
    "\n",
    "@tool\n",
    "def last_close_price(ticker: str) -> float:\n",
    "    \"\"\"\n",
    "    Returns last close price for input ticker.\n",
    "    e.g. company_address: MSFT\n",
    "    Returns last close price for ticker MSFT which is stock ticker for Microsoft.\n",
    "    \"\"\"\n",
    "    ticker_obj = yf.Ticker(ticker)\n",
    "    info = ticker_obj.get_info()\n",
    "\n",
    "    return info['previousClose']\n",
    "\n",
    "@tool\n",
    "def EBITDA(ticker: str) -> float:\n",
    "    \"\"\"\n",
    "    Returns EBITDA for input ticker.\n",
    "    e.g. company_address: AAPL\n",
    "    Returns EBITDA for ticker AAPL which is stock ticker for Apple Inc.\n",
    "    \"\"\"\n",
    "    ticker_obj = yf.Ticker(ticker)\n",
    "    info = ticker_obj.get_info()\n",
    "\n",
    "    return info['ebitda']\n",
    "\n",
    "@tool\n",
    "def total_debt(ticker: str) -> float:\n",
    "    \"\"\"\n",
    "    Returns total debt for input ticker.\n",
    "    e.g. company_address: AAPL\n",
    "    Returns total debt for ticker AAPL which is stock ticker for Apple Inc.\n",
    "    \"\"\"\n",
    "    ticker_obj = yf.Ticker(ticker)\n",
    "    info = ticker_obj.get_info()\n",
    "\n",
    "    return info['totalDebt']\n",
    "\n",
    "@tool\n",
    "def total_revenue(ticker: str) -> float:\n",
    "    \"\"\"\n",
    "    Returns total revenue for input ticker.\n",
    "    e.g. company_address: MSFT\n",
    "    Returns total revenue for ticker MSFT which is stock ticker for Microsoft.\n",
    "    \"\"\"\n",
    "    ticker_obj = yf.Ticker(ticker)\n",
    "    info = ticker_obj.get_info()\n",
    "\n",
    "    return info['totalRevenue']\n",
    "\n",
    "@tool\n",
    "def debt_to_equity_ratio(ticker: str) -> float:\n",
    "    \"\"\"\n",
    "    Returns debt to equity ratio for input ticker.\n",
    "    e.g. company_address: AAPL\n",
    "    Returns debt to equity ratio for ticker AAPL which is stock ticker for Apple Inc.\n",
    "    \"\"\"\n",
    "    ticker_obj = yf.Ticker(ticker)\n",
    "    info = ticker_obj.get_info()\n",
    "\n",
    "    return info['debtToEquity']\n",
    "\n",
    "finance_tools = [\n",
    "    company_address,\n",
    "    fulltime_employees,\n",
    "    last_close_price,\n",
    "    EBITDA,\n",
    "    total_debt,\n",
    "    total_revenue,\n",
    "    debt_to_equity_ratio\n",
    "]\n",
    "\n",
    "finance_tool_map = {t.name: t for t in finance_tools}"
   ]
  },
  {
   "cell_type": "code",
   "execution_count": 189,
   "metadata": {},
   "outputs": [],
   "source": [
    "llm_normal = llm\n",
    "normal_query_prompt = \"\"\"\n",
    "You are a financial analyst. Please answer the user's question based on what you know, don't make up anything.\n",
    "\"\"\"\n"
   ]
  },
  {
   "cell_type": "code",
   "execution_count": 190,
   "metadata": {},
   "outputs": [],
   "source": [
    "def answer_normal_query(state: State):\n",
    "    # Get the messages from the state\n",
    "    messages = state.get('messages', [])\n",
    "    # Add system message\n",
    "    system_message = SystemMessage(content=normal_query_prompt)\n",
    "    # Invoke LLM with both system and user messages\n",
    "    message = llm_normal.invoke([system_message] + messages)\n",
    "    # Return in the correct format - use 'messages' to match other branches\n",
    "    return {\"messages\": [message]} "
   ]
  },
  {
   "cell_type": "code",
   "execution_count": 191,
   "metadata": {},
   "outputs": [],
   "source": [
    "llm_financial_analysis = llm.bind_tools(finance_tools, tool_choice = 'auto')\n",
    "financial_analysis_prompt = \"\"\"\n",
    "You are a financial analyst. You are given tools for acurate data\n",
    "\"\"\"\n"
   ]
  },
  {
   "cell_type": "code",
   "execution_count": 192,
   "metadata": {},
   "outputs": [],
   "source": [
    "def call_llm(state: State):\n",
    "    messages = state['messages']\n",
    "    if financial_analysis_prompt:\n",
    "        messages = [SystemMessage(content=financial_analysis_prompt)] + messages\n",
    "    message = llm_financial_analysis.invoke(messages)\n",
    "    return {'messages': [message]}\n",
    "\n",
    "def exists_action(state: State):\n",
    "        result = state['messages'][-1]\n",
    "        return len(result.tool_calls) > 0\n",
    "\n",
    "def take_action(state: State):\n",
    "    tool_calls = state['messages'][-1].tool_calls\n",
    "    results = []\n",
    "    for t in tool_calls:\n",
    "        try:\n",
    "            tool_func = finance_tool_map[t['name']]\n",
    "            result = tool_func.invoke(t['args'])\n",
    "        except KeyError:\n",
    "            result = f\"Error: Tool {t['name']} not found\"\n",
    "        except Exception as e:\n",
    "            result = f\"Error executing tool: {str(e)}\"\n",
    "        results.append(ToolMessage(\n",
    "            tool_call_id=t['id'],\n",
    "            name=t['name'],\n",
    "            content=str(result)\n",
    "        ))\n",
    "    return {'messages': results}"
   ]
  },
  {
   "cell_type": "markdown",
   "metadata": {},
   "source": [
    "## Final Route Builder"
   ]
  },
  {
   "cell_type": "code",
   "execution_count": 193,
   "metadata": {},
   "outputs": [],
   "source": [
    "def get_route(state: State) -> str:\n",
    "    return state[\"route\"]\n"
   ]
  },
  {
   "cell_type": "code",
   "execution_count": 194,
   "metadata": {},
   "outputs": [
    {
     "data": {
      "text/plain": [
       "<langgraph.graph.state.StateGraph at 0x2991d8ae350>"
      ]
     },
     "execution_count": 194,
     "metadata": {},
     "output_type": "execute_result"
    }
   ],
   "source": [
    "final_router = StateGraph(State)\n",
    "final_router.add_node(\"route_first_step\", call_route_first_step)\n",
    "\n",
    "final_router.add_node(\"generate_query\", generate_query)\n",
    "final_router.add_node(\"web_research\", web_research)\n",
    "final_router.add_node(\"summarize_sources\", summarize_sources)\n",
    "final_router.add_node(\"reflect_on_summary\", reflect_on_summary)\n",
    "final_router.add_node(\"finalize_summary\", finalize_summary)\n",
    "final_router.add_node('call_llm', call_llm)\n",
    "final_router.add_node('take_action', take_action)\n",
    "final_router.add_node('answer_normal_query', answer_normal_query)\n",
    "final_router.add_edge(START, \"route_first_step\")\n",
    "final_router.add_conditional_edges(\"route_first_step\", get_route, {\n",
    "    'Web_query': 'generate_query',\n",
    "    'Normal_query': 'answer_normal_query',\n",
    "    'Financial_Analysis': 'call_llm'\n",
    "})\n",
    "\n",
    "final_router.add_edge(\"answer_normal_query\", END)\n",
    "final_router.add_conditional_edges(\n",
    "            \"call_llm\",\n",
    "            exists_action,\n",
    "            {True: \"take_action\", False: END}\n",
    "        )\n",
    "final_router.add_edge(\"take_action\", \"call_llm\")\n",
    "\n",
    "final_router.add_edge(\"generate_query\", \"web_research\")\n",
    "final_router.add_edge(\"web_research\", \"summarize_sources\")\n",
    "final_router.add_edge(\"summarize_sources\", \"reflect_on_summary\")\n",
    "final_router.add_conditional_edges(\"reflect_on_summary\", route_research)\n",
    "final_router.add_edge(\"finalize_summary\", END)"
   ]
  },
  {
   "cell_type": "code",
   "execution_count": 195,
   "metadata": {},
   "outputs": [],
   "source": [
    "final_model = final_router.compile()"
   ]
  },
  {
   "cell_type": "code",
   "execution_count": 196,
   "metadata": {},
   "outputs": [
    {
     "data": {
      "image/png": "[encoded data removed]",
      "text/plain": [
       "<IPython.core.display.Image object>"
      ]
     },
     "metadata": {},
     "output_type": "display_data"
    }
   ],
   "source": [
    "display(Image(final_model.get_graph().draw_mermaid_png()))"
   ]
  },
  {
   "cell_type": "code",
   "execution_count": 197,
   "metadata": {},
   "outputs": [],
   "source": [
    "initial_state = {\n",
    "    \"query\": \"What does stock mean?\",\n",
    "    \"route\": None,\n",
    "    \"research_topic\": \"What does stock mean?\",\n",
    "    \"search_query\": \"What does stock mean?\",\n",
    "    \"web_research_results\": [],\n",
    "    \"sources_gathered\": [],\n",
    "    \"research_loop_count\": 0,\n",
    "    \"running_summary\": \"\",\n",
    "    \"message\": []\n",
    "}\n",
    "normal_query = final_model.invoke(initial_state)\n"
   ]
  },
  {
   "cell_type": "code",
   "execution_count": 198,
   "metadata": {},
   "outputs": [
    {
     "name": "stdout",
     "output_type": "stream",
     "text": [
      "Final state validated successfully!\n",
      "Summary: \n"
     ]
    }
   ],
   "source": [
    "if __name__ == \"__main__\":\n",
    "    # Initialize with proper state structure\n",
    "    initial_state = create_initial_state(\"What is EBIDTA of Apple Inc?\")\n",
    "    \n",
    "    # Execute workflow\n",
    "    result = final_model.invoke(initial_state)\n",
    "    \n",
    "    # Validate final state\n",
    "    validate_state_transition(initial_state, result)\n",
    "    print(\"Final state validated successfully!\")\n",
    "    print(\"Summary:\", result[\"running_summary\"])"
   ]
  },
  {
   "cell_type": "code",
   "execution_count": 199,
   "metadata": {},
   "outputs": [
    {
     "data": {
      "text/plain": [
       "{'route': 'Financial_Analysis',\n",
       " 'research_topic': 'What is EBIDTA of Apple Inc?',\n",
       " 'search_query': '',\n",
       " 'web_research_results': [],\n",
       " 'sources_gathered': [],\n",
       " 'research_loop_count': 0,\n",
       " 'running_summary': '',\n",
       " 'messages': [HumanMessage(content='What is EBIDTA of Apple Inc?', additional_kwargs={}, response_metadata={}),\n",
       "  AIMessage(content='', additional_kwargs={'tool_calls': [{'id': 'call_xw2g', 'function': {'arguments': '{\"ticker\":\"AAPL\"}', 'name': 'EBITDA'}, 'type': 'function'}]}, response_metadata={'token_usage': {'completion_tokens': 82, 'prompt_tokens': 1786, 'total_tokens': 1868, 'completion_time': 0.149090909, 'prompt_time': 0.061491905, 'queue_time': 0.23879569899999997, 'total_time': 0.210582814}, 'model_name': 'Gemma2-9b-it', 'system_fingerprint': 'fp_10c08bf97d', 'finish_reason': 'tool_calls', 'logprobs': None}, id='run-ecfe8120-b3ba-4ac7-b87f-9c164d74832a-0', tool_calls=[{'name': 'EBITDA', 'args': {'ticker': 'AAPL'}, 'id': 'call_xw2g', 'type': 'tool_call'}], usage_metadata={'input_tokens': 1786, 'output_tokens': 82, 'total_tokens': 1868}),\n",
       "  ToolMessage(content='137352003584', name='EBITDA', tool_call_id='call_xw2g'),\n",
       "  AIMessage(content='The EBITDA of Apple Inc is 137352003584.', additional_kwargs={}, response_metadata={'token_usage': {'completion_tokens': 22, 'prompt_tokens': 1869, 'total_tokens': 1891, 'completion_time': 0.04, 'prompt_time': 0.079825782, 'queue_time': 0.236363422, 'total_time': 0.119825782}, 'model_name': 'Gemma2-9b-it', 'system_fingerprint': 'fp_10c08bf97d', 'finish_reason': 'stop', 'logprobs': None}, id='run-d87c7fe5-484c-464a-9991-c32b92938051-0', usage_metadata={'input_tokens': 1869, 'output_tokens': 22, 'total_tokens': 1891})]}"
      ]
     },
     "execution_count": 199,
     "metadata": {},
     "output_type": "execute_result"
    }
   ],
   "source": [
    "result"
   ]
  },
  {
   "cell_type": "code",
   "execution_count": 200,
   "metadata": {},
   "outputs": [
    {
     "data": {
      "text/plain": [
       "'The EBITDA of Apple Inc is 137352003584.'"
      ]
     },
     "execution_count": 200,
     "metadata": {},
     "output_type": "execute_result"
    }
   ],
   "source": [
    "result['messages'][-1].content"
   ]
  },
  {
   "cell_type": "code",
   "execution_count": 186,
   "metadata": {},
   "outputs": [
    {
     "data": {
      "text/markdown": [
       "## Summary\n",
       "\n",
       "Reliance Industries' stock is experiencing positive momentum, reversing its recent decline. Leading brokerages like Macquarie, Morgan Stanley, and Kotak Institutional Equities have upgraded their ratings and target prices for the company, citing strong earnings momentum and anticipation for a potential listing of Jio, Reliance's telecom subsidiary. Macquarie notes that Reliance has underperformed the MSCI India index and Bharti Airtel in the past year, presenting a growth opportunity. Morgan Stanley maintains an \"Overweight\" rating with a target price of Rs 1,606, while Kotak Institutional Equities upgraded its rating to \"Buy\" with a target price of Rs 1,400.  Adding to this positive outlook, Motilal Oswal Financial Services has also recommended buying Reliance Industries shares with a target price of Rs 1,605. This surge in investor confidence is reflected in the company's recent market performance, with a significant increase in market capitalization among the top-10 most valued firms in India. \n",
       "\n",
       "Reliance Retail has re-launched Shein in India, potentially sparking a fast fashion war and challenging competitors like Trent's Zudio and Nykaa Fashion. Despite this potential competition, experts suggest that Shein's online-first model might face challenges in supply chain establishment and unit economics.  \n",
       "\n",
       "The combined market valuation of six of the top-10 most valued firms, including Reliance Industries, surged Rs 1,18,151.75 crore last week.  HDFC Bank and Bharti Airtel emerged as the biggest gainers during this period,  in-line with firm trend in equities.   \n",
       "\n",
       "\n",
       "\n",
       "\n",
       "\n",
       "### Sources:\n",
       "* Reliance Industries Gain Momentum As Brokerages Project Positive ... : https://www.timesnownews.com/business-economy/companies/reliance-industries-gain-momentum-as-brokerages-project-positive-perfomance-with-upgraded-target-price-article-118838825\n",
       "* Reliance Industries News - Reliance Industries Announcement, Latest ... : https://economictimes.indiatimes.com/reliance-industries-ltd/stocksupdate/companyid-13215.cms\n",
       "* Reliance Industries News - Reliance Industries Announcement, Latest ... : https://economictimes.indiatimes.com/reliance-industries-ltd/stocksupdate/companyid-13215.cms"
      ],
      "text/plain": [
       "<IPython.core.display.Markdown object>"
      ]
     },
     "execution_count": 186,
     "metadata": {},
     "output_type": "execute_result"
    }
   ],
   "source": [
    "Markdown(result['messages'][-1].content)"
   ]
  },
  {
   "cell_type": "code",
   "execution_count": null,
   "metadata": {},
   "outputs": [],
   "source": []
  }
 ],
 "metadata": {
  "kernelspec": {
   "display_name": "Python 3",
   "language": "python",
   "name": "python3"
  },
  "language_info": {
   "codemirror_mode": {
    "name": "ipython",
    "version": 3
   },
   "file_extension": ".py",
   "mimetype": "text/x-python",
   "name": "python",
   "nbconvert_exporter": "python",
   "pygments_lexer": "ipython3",
   "version": "3.11.11"
  }
 },
 "nbformat": 4,
 "nbformat_minor": 2
}
