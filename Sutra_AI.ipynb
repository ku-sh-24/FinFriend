{
 "cells": [
  {
   "cell_type": "code",
   "execution_count": 2,
   "metadata": {},
   "outputs": [
    {
     "name": "stdout",
     "output_type": "stream",
     "text": [
      "मैं SUTRA हूँ, एक बुद्धिमान बहुभाषी एआई मॉडल। मुझे TWO AI द्वारा विकसित किया गया है, जो एक अभिनव एआई कंपनी है। मेरा उद्देश्य उपयोगकर्ताओं को जानकारी प्रदान करना और उनकी सहायता करना है। मैं विभिन्न भाषाओं में संवाद कर सकता हूँ और आपके प्रश्नों का उत्तर देने के लिए तैयार हूँ। आप मुझसे किसी भी विषय पर पूछ सकते हैं।"
     ]
    }
   ],
   "source": [
    "import os\n",
    "from openai import OpenAI\n",
    "\n",
    "url = 'https://api.two.ai/v2';\n",
    "\n",
    "client = OpenAI(base_url=url,\n",
    "                api_key=os.environ.get(\"SUTRA_API_KEY\"))\n",
    "\n",
    "stream = client.chat.completions.create(model='sutra-v2',\n",
    "                                        messages = [{\"role\": \"user\", \"content\": \"tell me about yourself in hindi\"}],\n",
    "                                        max_tokens=1024,\n",
    "                                        temperature=0,\n",
    "                                        stream=True)\n",
    "\n",
    "for chunk in stream:\n",
    "    if len(chunk.choices) > 0:\n",
    "        content = chunk.choices[0].delta.content\n",
    "        finish_reason = chunk.choices[0].finish_reason\n",
    "        if content and finish_reason is None:\n",
    "            print(content, end='', flush=True)"
   ]
  }
 ],
 "metadata": {
  "kernelspec": {
   "display_name": "Python 3",
   "language": "python",
   "name": "python3"
  },
  "language_info": {
   "codemirror_mode": {
    "name": "ipython",
    "version": 3
   },
   "file_extension": ".py",
   "mimetype": "text/x-python",
   "name": "python",
   "nbconvert_exporter": "python",
   "pygments_lexer": "ipython3",
   "version": "3.11.11"
  }
 },
 "nbformat": 4,
 "nbformat_minor": 2
}
