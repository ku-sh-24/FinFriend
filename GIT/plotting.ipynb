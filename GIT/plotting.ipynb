{
 "cells": [
  {
   "cell_type": "code",
   "execution_count": 2,
   "metadata": {},
   "outputs": [],
   "source": [
    "import plotly.graph_objects as go\n",
    "from plotly.subplots import make_subplots\n",
    "import plotly.colors as pc\n",
    "import yfinance as yf\n",
    "import pandas as pd\n",
    "import plotly.io as pio\n",
    "from typing import TypedDict, Annotated, Optional\n",
    "from langgraph.graph import StateGraph, END\n",
    "from langchain_core.messages import HumanMessage\n",
    "\n",
    "# Define the state structure\n",
    "class GraphState(TypedDict):\n",
    "    query: str\n",
    "    plot_type: Optional[str]\n",
    "    ticker: Optional[str]\n",
    "    plot_json: Optional[str]\n",
    "    response: Optional[str]\n",
    "\n",
    "# Data fetching functions\n",
    "def fetch_stock_data(ticker, period=\"1y\"):\n",
    "    stock = yf.Ticker(ticker)\n",
    "    return stock.history(period=period)\n",
    "\n",
    "def fetch_balance(ticker, tp=\"Annual\"):\n",
    "    ticker_obj = yf.Ticker(ticker)\n",
    "    bs = ticker_obj.balance_sheet if tp == \"Annual\" else ticker_obj.quarterly_balance_sheet\n",
    "    return bs.loc[:, bs.isna().mean() < 0.5]\n",
    "\n",
    "# Plotting functions\n",
    "def plot_candles_stick(df, title=\"\"):\n",
    "    fig = go.Figure(data=[go.Candlestick(x=df.index,\n",
    "                open=df['Open'],\n",
    "                high=df['High'],\n",
    "                low=df['Low'],\n",
    "                close=df['Close'])])\n",
    "    fig.update_layout(title=title)\n",
    "    return fig\n",
    "\n",
    "def plot_balance(df, ticker=\"\", currency=\"\"):\n",
    "    df.columns = pd.to_datetime(df.columns).strftime('%b %d, %Y')\n",
    "    components = {\n",
    "        'Total Assets': {'color': 'forestgreen', 'name': 'Assets'},\n",
    "        'Stockholders Equity': {'color': 'CornflowerBlue', 'name': \"Stockholder's Equity\"},\n",
    "        'Total Liabilities Net Minority Interest': {'color': 'tomato', 'name': \"Total Liabilities\"},\n",
    "    }\n",
    "    \n",
    "    fig = go.Figure()\n",
    "    for component in components:\n",
    "        if component == 'Total Assets':\n",
    "            fig.add_trace(go.Bar(\n",
    "                x=[df.columns, ['Assets'] * len(df.columns)],\n",
    "                y=df.loc[component],\n",
    "                name=components[component]['name'],\n",
    "                marker=dict(color=components[component]['color'])\n",
    "            ))\n",
    "        else:\n",
    "            fig.add_trace(go.Bar(\n",
    "                x=[df.columns, ['L+E'] * len(df.columns)],\n",
    "                y=df.loc[component],\n",
    "                name=components[component]['name'],\n",
    "                marker=dict(color=components[component]['color'])\n",
    "            ))\n",
    "\n",
    "    offset = 0.03 * df.loc['Total Assets'].max()\n",
    "    for i, date in enumerate(df.columns):\n",
    "        fig.add_annotation(\n",
    "            x=[date, \"Assets\"],\n",
    "            y=df.loc['Total Assets', date] / 2,\n",
    "            text=str(round(df.loc['Total Assets', date] / 1e9, 1)) + 'B',\n",
    "            showarrow=False,\n",
    "            font=dict(size=12, color=\"black\"),\n",
    "            align=\"center\"\n",
    "        )\n",
    "        percentage = round((df.loc['Total Liabilities Net Minority Interest', date] / df.loc['Total Assets', date]) * 100, 1)\n",
    "        fig.add_annotation(\n",
    "            x=[date, \"L+E\"],\n",
    "            y=df.loc['Stockholders Equity', date] + df.loc['Total Liabilities Net Minority Interest', date] / 2,\n",
    "            text=str(percentage) + '%',\n",
    "            showarrow=False,\n",
    "            font=dict(size=12, color=\"black\"),\n",
    "            align=\"center\"\n",
    "        )\n",
    "        if i > 0:\n",
    "            percentage = round((df.loc['Total Assets'].iloc[i] / df.loc['Total Assets'].iloc[i - 1] - 1) * 100, 1)\n",
    "            sign = '+' if percentage >= 0 else ''\n",
    "            fig.add_annotation(\n",
    "                x=[date, \"Assets\"],\n",
    "                y=df.loc['Total Assets', date] + offset,\n",
    "                text=sign + str(percentage) + '%',\n",
    "                showarrow=False,\n",
    "                font=dict(size=12, color=\"black\"),\n",
    "                align=\"center\"\n",
    "            )\n",
    "\n",
    "    fig.update_layout(\n",
    "        barmode='stack',\n",
    "        title=f'Accounting Balance: {ticker}',\n",
    "        xaxis_title='Year',\n",
    "        yaxis_title=f'Amount (in {currency})',\n",
    "        legend_title='Balance components',\n",
    "    )\n",
    "    return fig\n",
    "\n",
    "def plot_assets(df, ticker=\"\", currency=\"\"):\n",
    "    assets = {\n",
    "        'Current Assets': {\n",
    "            'Cash Cash Equivalents And Short Term Investments': {},\n",
    "            'Receivables': {},\n",
    "            'Prepaid Assets': None,\n",
    "            'Inventory': {},\n",
    "            'Hedging Assets Current': None,\n",
    "            'Other Current Assets': None\n",
    "        },\n",
    "        'Total Non Current Assets': {\n",
    "            'Net PPE': {},\n",
    "            'Goodwill And Other Intangible Assets': {},\n",
    "            'Investments And Advances': {},\n",
    "            'Investment Properties': None,\n",
    "            'Other Non Current Assets': None\n",
    "        }\n",
    "    }\n",
    "\n",
    "    fig = make_subplots(\n",
    "        rows=1, cols=2,\n",
    "        shared_yaxes=True,\n",
    "        horizontal_spacing=0.05,\n",
    "        subplot_titles=['Current Assets', 'Non-Current Assets']\n",
    "    )\n",
    "\n",
    "    colors = pc.sequential.Blugrn[::-1]\n",
    "    i = 0\n",
    "    for component in assets['Current Assets']:\n",
    "        if component in df.index:\n",
    "            fig.add_trace(go.Bar(\n",
    "                x=df.columns,\n",
    "                y=df.loc[component],\n",
    "                name=component,\n",
    "                marker=dict(color=colors[i]),\n",
    "                legendgroup='Current Assets',\n",
    "                showlegend=True\n",
    "            ), row=1, col=1)\n",
    "            i += 1\n",
    "\n",
    "    colors = pc.sequential.Purp[::-1]\n",
    "    i = 0\n",
    "    for component in assets['Total Non Current Assets']:\n",
    "        if component in df.index:\n",
    "            fig.add_trace(go.Bar(\n",
    "                x=df.columns,\n",
    "                y=df.loc[component],\n",
    "                name=component,\n",
    "                marker=dict(color=colors[i]),\n",
    "                legendgroup='Non-current Assets',\n",
    "                showlegend=True\n",
    "            ), row=1, col=2)\n",
    "            i += 1\n",
    "\n",
    "    offset = 0.03 * max(df.loc['Current Assets'].max(), df.loc['Total Non Current Assets'].max())\n",
    "    for i, date in enumerate(df.columns):\n",
    "        fig.add_annotation(\n",
    "            x=date,\n",
    "            y=df.loc['Current Assets', date] + offset,\n",
    "            text=str(round(df.loc['Current Assets', date] / 1e9, 1)) + 'B',\n",
    "            showarrow=False,\n",
    "            font=dict(size=12, color=\"black\"),\n",
    "            align=\"center\",\n",
    "            row=1, col=1\n",
    "        )\n",
    "        fig.add_annotation(\n",
    "            x=date,\n",
    "            y=df.loc['Total Non Current Assets', date] + offset,\n",
    "            text=str(round(df.loc['Total Non Current Assets', date] / 1e9, 1)) + 'B',\n",
    "            showarrow=False,\n",
    "            font=dict(size=12, color=\"black\"),\n",
    "            align=\"center\",\n",
    "            row=1, col=2\n",
    "        )\n",
    "\n",
    "    fig.update_layout(\n",
    "        barmode='stack',\n",
    "        title=f'Assets: {ticker}',\n",
    "        xaxis1=dict(title='Date', type='date', tickvals=df.columns),\n",
    "        xaxis2=dict(title='Date', type='date', tickvals=df.columns),\n",
    "        yaxis_title=f'Amount (in {currency})',\n",
    "        legend_title='Asset Components',\n",
    "    )\n",
    "    return fig\n",
    "\n",
    "# LangGraph nodes\n",
    "def parse_query(state: GraphState) -> GraphState:\n",
    "    \"\"\"Parse the user query to determine plot type and ticker\"\"\"\n",
    "    query = state[\"query\"].lower()\n",
    "    ticker = query.split()[-1].upper()\n",
    "    \n",
    "    if \"candlestick chart\" in query:\n",
    "        return {\"plot_type\": \"candlestick\", \"ticker\": ticker}\n",
    "    elif \"balance sheet\" in query:\n",
    "        return {\"plot_type\": \"balance\", \"ticker\": ticker}\n",
    "    elif \"assets\" in query:\n",
    "        return {\"plot_type\": \"assets\", \"ticker\": ticker}\n",
    "    else:\n",
    "        return {\"plot_type\": None, \"ticker\": None}\n",
    "\n",
    "def generate_plot(state: GraphState) -> GraphState:\n",
    "    \"\"\"Generate the appropriate plot based on the parsed query\"\"\"\n",
    "    if not state[\"plot_type\"] or not state[\"ticker\"]:\n",
    "        return {\"response\": \"I can generate candlestick charts, balance sheets, or assets visualizations. Please specify what you'd like to see (e.g., 'Show me a candlestick chart for AAPL')\"}\n",
    "    \n",
    "    ticker = state[\"ticker\"]\n",
    "    plot_type = state[\"plot_type\"]\n",
    "    \n",
    "    try:\n",
    "        if plot_type == \"candlestick\":\n",
    "            df = fetch_stock_data(ticker)\n",
    "            fig = plot_candles_stick(df, title=f\"{ticker} Candlestick Chart\")\n",
    "        elif plot_type == \"balance\":\n",
    "            df = fetch_balance(ticker)\n",
    "            fig = plot_balance(df, ticker=ticker, currency=\"USD\")\n",
    "        elif plot_type == \"assets\":\n",
    "            df = fetch_balance(ticker)\n",
    "            fig = plot_assets(df, ticker=ticker, currency=\"USD\")\n",
    "        \n",
    "        plot_json = fig.to_json()\n",
    "        return {\"plot_json\": plot_json}\n",
    "    \n",
    "    except Exception as e:\n",
    "        return {\"response\": f\"Error generating plot: {str(e)}\"}\n",
    "\n",
    "def format_response(state: GraphState) -> GraphState:\n",
    "    \"\"\"Format the final response\"\"\"\n",
    "    if state.get(\"plot_json\"):\n",
    "        return {\"response\": state[\"plot_json\"]}\n",
    "    elif state.get(\"response\"):\n",
    "        return {\"response\": state[\"response\"]}\n",
    "    else:\n",
    "        return {\"response\": \"Something went wrong while processing your request\"}\n",
    "\n",
    "# Build the graph\n"
   ]
  },
  {
   "cell_type": "code",
   "execution_count": 3,
   "metadata": {},
   "outputs": [
    {
     "name": "stdout",
     "output_type": "stream",
     "text": [
      "Query: Show me a candlestick chart for AAPL\n"
     ]
    },
    {
     "data": {
      "application/vnd.plotly.v1+json": {
       "config": {
        "plotlyServerURL": "https://plot.ly"
       },
       "data": [
        {
         "close": {
          "bdata": "AAAAoIFBZUAAAACgMh1lQAAAAEDbj2VAAAAAQJJVZUAAAACgYydlQAAAAOB8AWVAAAAAQEkbZUAAAAAA2gBlQAAAAKAOGWVAAAAAIBH1ZEAAAABg7BtlQAAAAEC632RAAAAAwPTGZUAAAACADPdlQAAAAOAbfGVAAAAAALASZUAAAAAgvOZkQAAAAKAoyGRAAAAAoC+HZEAAAABg8KFkQAAAACCzw2RAAAAAoDgHZUAAAABA7iJlQAAAAKAjEGVAAAAAQOiVZUAAAADA8TBlQAAAAKAjEGVAAAAAQPCGZUAAAADglNBmQAAAAKBkm2ZAAAAAgF6xZkAAAACgMrxmQAAAAMB79mZAAAAAoPrNZkAAAAAA/jRnQAAAAGCrWWdAAAAAQLSiZ0AAAAAAiKZnQAAAAOB8p2dAAAAAgM3MZ0AAAAAglfZnQAAAAGBWyGdAAAAA4CBIZ0AAAAAA/6pnQAAAAKBQq2dAAAAAAOK0Z0AAAACgxtRnQAAAAIBk82dAAAAAgCksaEAAAAAgXjZoQAAAAEDYZmhAAAAAoIM6aEAAAAAAYIdoQAAAAKAjD2hAAAAAgJjOaUAAAADgZotqQAAAAEC3sGpAAAAAQOd4akAAAAAgN/5qQAAAAGBPsmpAAAAAwEgfakAAAACAcNlpQAAAAIAr7mlAAAAAgNQLakAAAABgJJFqQAAAAGBArGpAAAAAYEM9akAAAABAxABrQAAAAIAHcWtAAAAAQNqZa0AAAABgnjJsQAAAAADSYWxAAAAAYD99bEAAAAAgYwZtQAAAAODYWWxAAAAAgJG4bEAAAADArDNtQAAAAOARQW1AAAAAYKCDbEAAAAAAu+1rQAAAAEDg8WtAAAAAwLbma0AAAACAMwhsQAAAAODaOWtAAAAAIF4Ya0AAAABgWydrQAAAAIBJMGtAAAAAoCVCa0AAAABgwaprQAAAAEAdNGtAAAAAIPRja0AAAABgNRJqQAAAAMAl0WlAAAAAAMAjakAAAAAgDpNqQAAAAICA8GpAAAAAYKwha0AAAAAgF5lrQAAAAIB1p2tAAAAAgD8HbEAAAAAAtzFsQAAAACCbLGxAAAAAAGdAbEAAAADA4zxsQAAAAIAuAWxAAAAAYPBKbEAAAACAy1VsQAAAAGDvcGxAAAAAgMM/bEAAAADAIalsQAAAAEDoj2xAAAAAIPzIa0AAAAAgrotrQAAAAECIvGtAAAAAALmKa0AAAACAmI1rQAAAAGANdGtAAAAAAHnFa0AAAAAg/MhrQAAAAEBdwGtAAAAA4An7akAAAACACwprQAAAAECShmtAAAAAoMGLbEAAAAAAXXZsQAAAAAAgP2xAAAAAoNxbbEAAAACg7jtsQAAAAMCmYGxAAAAAoEVpbEAAAABgoA9tQAAAAODSNmxAAAAAAAZJbEAAAADAlCVsQAAAAICpSWxAAAAAQICma0AAAABAxihsQAAAAEAmoWxAAAAAQC+RbEAAAAAAnGFsQAAAAIBY2WxAAAAAQMQqbUAAAAAArOhsQAAAAGB89GxAAAAAQHxPbUAAAADgvX5tQAAAAADyam1AAAAAgBrIbEAAAACgCcJsQAAAAKDb3GxAAAAA4GUcbUAAAADgBCVtQAAAAKAHs2xAAAAAoD4tbEAAAACAdM1rQAAAAOC3sGtAAAAAgLLea0AAAACAY8drQAAAAMBfX2xAAAAAYL5WbEAAAADAev9rQAAAAMB6/2tAAAAAoO0bbEAAAAAABX9sQAAAAKAXGGxAAAAAYKB4bEAAAADg74BsQAAAAKDzl2xAAAAA4JuIbEAAAADgwrNsQAAAAOCnE21AAAAAoKhZbUAAAADggFVtQAAAACA4om1AAAAAoHXqbUAAAACgRUxuQAAAAIDHV25AAAAAAL1YbkAAAABgWFJuQAAAAABUz25AAAAAoO7vbkAAAABgBMduQAAAAIAB9m5AAAAAgHD7bkAAAAAAdVhvQAAAAIBzpm9AAAAA4OH4bkAAAABAgDBvQAAAAIC8xm9AAAAAQKvfb0AAAADAqR5wQAAAAKDEK3BAAAAAwOXpb0AAAABgiX1vQAAAAKCjRG9AAAAAYKFybkAAAACg92JuQAAAAMBjl25AAAAAQDU+bkAAAADA3k1uQAAAAEDgkm1AAAAA4I9EbUAAAADgwiBtQAAAAOB6s21AAAAAQEyAbEAAAAAAR7dsQAAAAMCnzGtAAAAAgLHya0AAAACAQu1rQAAAAGAh0WtAAAAAAHGzbEAAAABA8r9tQAAAAKAb421AAAAAoIeqbUAAAADAtHdtQAAAAIBOeGxAAAAAIGsRbUAAAADA3gZtQAAAAADYHm1AAAAAAClsbEAAAADAzHRsQAAAAADXE21AAAAAANebbUAAAADA9TBuQAAAAEAzk25AAAAAQAqPbkAAAAAA15tuQAAAAGCPum5AAAAAoJmxbkAAAABAM+NuQAAAAKBH4W5AAAAAIIULbkAAAACgmaltQAAAAEDhOm5AAAAAwPXAbUAAAACAwn1tQAAAACCud21AAAAAYI9qbUAAAACAPeJtQAAAACBcb2xAAAAAQOGaa0AAAAAgXB9rQAAAAIDCNWpAAAAAIK6vakAAAAAAAMBqQAAAAIAUlmpAAAAAIK7nakAAAABAM8NqQAAAAOCjSGtAAAAAwPVwa0A=",
          "dtype": "f8"
         },
         "high": {
          "bdata": "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",
          "dtype": "f8"
         },
         "low": {
          "bdata": "0KtHpuoUZUBBuE+hDhllQNDASxLwKWVA0yIuWK02ZUB0Js4s3xVlQAzSMjwP7mRAfkPNETX5ZEAAAAAA2gBlQEyBQOH9BGVA3OGm9WDuZECtl8DR4fFkQECpeGtjymRAFCSFv9TrZECad9VWhaxlQNBRrrAOdmVATZbym1XvZEAAAAAgvOZkQCtcUH2NuGRA0NJSa+JpZEDeW+Yx3H9kQOo+wzqjhGRAnQdAT7mtZECiiyAdg+tkQPcr0B5RDGVAAABX5iqJZUBXVXUUbyZlQFlQpnAWCmVAsedXw8dCZUBCqlNYprlmQDRVK4pOcmZAtuIe1PiOZkBNh1eKHJNmQJzsKBUiqGZAKHfLPqOwZkDjEnLNDABnQCQtKMhPNWdAmuk1fMFXZ0CuwWRwyqBnQGHKGk97kWdA5RL6cw+MZ0DdX169+chnQOlmhMk+tGdAgwc1vCdAZ0BJEQO8H21nQOVfIizujmdARhNIpwGcZ0CC5y4cur9nQIpjIXbDqGdA3gtNDwH8Z0DgG9vYRAxoQBK3vbDzRmhAAsuboaAwaEBt6YV2qy9oQG88Hv4z8GdAc+71vWcfaEBhJwFun8ZpQIP6c9GEXGpAVn+NZ/NSakCqYqgjPYBqQMJY8SUriWpA8ld9RtAEakAirHHtUc1pQBwwPWi8vGlA09Zyvyj9aUCdp3Te5j1qQIEYD2VwdGpAtGHpxw4zakCoAsRpuWZqQLS1X74kzGpAZ24/hntJa0BQbSOSCp1rQLFwROcR0GtAs19HQ5MzbECY5v5ZbY9sQICClaRwIGxAkJAOaj99bEDVYVoy5QltQHFe1hOo8WxArpCgty88bEDNrfvI0LBrQLcmlsMG0WtAJ9Srf/fKa0DE7rAP5L1rQF+FrvDiDGtAPF8KwdW8akCIQ4piKulqQAWRvbPf4GpASPZ9iqzsakCFQurJgnxrQDS4HMVgCWtAjocJX2Ifa0DedSGj/WpoQAYclCewDGlA+fC7flu2aUDoECjvLARqQD8wPctRaGpAaSl9mAzkakC1kpvI7VBrQLB0Bvf1ZmtAu73GYqrIa0CrAA9NFeVrQA8NfyWb0WtACx21kY4ebECtUmbpyBFsQIHnatUQ7WtABhGyp8v6a0AKLfwPv+xrQK89fP2sDGxAlYKHcuYlbEAEcNl+E4xsQABAW7hfX2xACsnyqOWVa0A+0oKgEyBrQFRH0JgSoWtA0a+pQzJpa0Aq9zevfQdrQO7ISy4hCGtA6XV/8Cota0DvxG7SymprQNn+LJ2GrWtA3IktLWiuakCvx58S7cBqQAsWUAv+IWtA++AJ518EbEDBZDMP2GNsQDDnpR8NKmxA8+jlQH8nbEB9eq/G5fBrQGqTk5VHHWxALw+ncKBZbEBvIxZkqaRsQE5dZA/152tAc8BVxPfQa0BD3e7mi9prQDu/fuho9GtAfA77mQGba0DyCcu1T9hrQAq5UrvCCmxAdVQJ5HlVbECdZSxn51psQPSOybIig2xArfspoIL7bECE3J9muqpsQMQ10NJwwGxAh8yE798vbUB/fPuk7D1tQPHHuMXaAm1AKzhUeFBobEAtp5O7EX1sQPnmHHobomxAzB+XCkIBbUBIZFcJ6vlsQEdFFeV3oWxAYrv6lgAcbECDt6geKXlrQAL5j8BHZ2tA7peUjvCUa0CeCFlGiZZrQLkwz3l1AmxAC1nPsilFbECUfb4vN6hrQPZJx5Or42tA6KuMu33Qa0Dc/D64FxhsQLwbZBHCAGxAzvU8xIYdbECiB0xzJ01sQBy7RHuKNGxATPsXqMkubECQONCo53lsQGoHEimbr2xAfEKoEFwibUD0QY/zszFtQCjz1DrRNm1AW7bs/MicbUBwwyFdZ9RtQFmns3WFH25ANqnoj6Y7bkAFg3pWDTpuQB0DHPyAL25AlOgH3UGibkCLoskxqr9uQK73WSMgrW5ABYZAoQa/bkCilgSgGOxuQFAwMmouMG9AcKoCKvnubkCaYcIqMtpuQEjyQQxyrW5ApNfTH36lb0BnBmDOTuBvQJpxy4CNFXBALI8QwwaZb0CZk50LME9vQEHqLmj+JG9AoCZ3470xbkCNDr2Z+jNuQPbhy1HaXW5Advm+3LcibkC1AbPXKfltQLmAtaPPF21AR2z/eveubEDHOqmp3gZtQK/eJ1OFRW1A6cm5MfJ4bEAK8dZ+VIdsQJCnpTRzZGtAYyluGY5xa0A2BV6cycFrQBAPdLNWpWtAKfeA53z3a0Dk6xHnztFsQHsHLoIYOG1AhjQ3K2KebUCG0yZI4CVtQGJOYch3LmxAmArjlNVMbECCpWopnoBsQKmq8VmpxWxAGZ85NFVgbEAAAABgZmZsQAAAAAAphGxAAAAAgMLVbEAAAACAPXJtQAAAACCuH25AAAAAQOE6bkAAAADAHmVuQAAAAKBHiW5AAAAAQAqnbkAAAACgcI1uQAAAAMAenW5AAAAAACnkbUAAAACA66FtQAAAAGBmxmxAAAAAIIWDbUAAAACAwlVtQAAAACBcp2xAAAAAwB4lbUAAAADgUVhtQAAAAEAKB2xAAAAAYGYua0AAAADAHt1qQAAAAKBwDWpAAAAAYI8yakAAAABACj9qQAAAACCub2pAAAAAAAC4akAAAABACodqQAAAAMD1aGpAAAAAYI9Sa0A=",
          "dtype": "f8"
         },
         "open": {
          "bdata": "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",
          "dtype": "f8"
         },
         "type": "candlestick",
         "x": [
          "2024-03-25T00:00:00-04:00",
          "2024-03-26T00:00:00-04:00",
          "2024-03-27T00:00:00-04:00",
          "2024-03-28T00:00:00-04:00",
          "2024-04-01T00:00:00-04:00",
          "2024-04-02T00:00:00-04:00",
          "2024-04-03T00:00:00-04:00",
          "2024-04-04T00:00:00-04:00",
          "2024-04-05T00:00:00-04:00",
          "2024-04-08T00:00:00-04:00",
          "2024-04-09T00:00:00-04:00",
          "2024-04-10T00:00:00-04:00",
          "2024-04-11T00:00:00-04:00",
          "2024-04-12T00:00:00-04:00",
          "2024-04-15T00:00:00-04:00",
          "2024-04-16T00:00:00-04:00",
          "2024-04-17T00:00:00-04:00",
          "2024-04-18T00:00:00-04:00",
          "2024-04-19T00:00:00-04:00",
          "2024-04-22T00:00:00-04:00",
          "2024-04-23T00:00:00-04:00",
          "2024-04-24T00:00:00-04:00",
          "2024-04-25T00:00:00-04:00",
          "2024-04-26T00:00:00-04:00",
          "2024-04-29T00:00:00-04:00",
          "2024-04-30T00:00:00-04:00",
          "2024-05-01T00:00:00-04:00",
          "2024-05-02T00:00:00-04:00",
          "2024-05-03T00:00:00-04:00",
          "2024-05-06T00:00:00-04:00",
          "2024-05-07T00:00:00-04:00",
          "2024-05-08T00:00:00-04:00",
          "2024-05-09T00:00:00-04:00",
          "2024-05-10T00:00:00-04:00",
          "2024-05-13T00:00:00-04:00",
          "2024-05-14T00:00:00-04:00",
          "2024-05-15T00:00:00-04:00",
          "2024-05-16T00:00:00-04:00",
          "2024-05-17T00:00:00-04:00",
          "2024-05-20T00:00:00-04:00",
          "2024-05-21T00:00:00-04:00",
          "2024-05-22T00:00:00-04:00",
          "2024-05-23T00:00:00-04:00",
          "2024-05-24T00:00:00-04:00",
          "2024-05-28T00:00:00-04:00",
          "2024-05-29T00:00:00-04:00",
          "2024-05-30T00:00:00-04:00",
          "2024-05-31T00:00:00-04:00",
          "2024-06-03T00:00:00-04:00",
          "2024-06-04T00:00:00-04:00",
          "2024-06-05T00:00:00-04:00",
          "2024-06-06T00:00:00-04:00",
          "2024-06-07T00:00:00-04:00",
          "2024-06-10T00:00:00-04:00",
          "2024-06-11T00:00:00-04:00",
          "2024-06-12T00:00:00-04:00",
          "2024-06-13T00:00:00-04:00",
          "2024-06-14T00:00:00-04:00",
          "2024-06-17T00:00:00-04:00",
          "2024-06-18T00:00:00-04:00",
          "2024-06-20T00:00:00-04:00",
          "2024-06-21T00:00:00-04:00",
          "2024-06-24T00:00:00-04:00",
          "2024-06-25T00:00:00-04:00",
          "2024-06-26T00:00:00-04:00",
          "2024-06-27T00:00:00-04:00",
          "2024-06-28T00:00:00-04:00",
          "2024-07-01T00:00:00-04:00",
          "2024-07-02T00:00:00-04:00",
          "2024-07-03T00:00:00-04:00",
          "2024-07-05T00:00:00-04:00",
          "2024-07-08T00:00:00-04:00",
          "2024-07-09T00:00:00-04:00",
          "2024-07-10T00:00:00-04:00",
          "2024-07-11T00:00:00-04:00",
          "2024-07-12T00:00:00-04:00",
          "2024-07-15T00:00:00-04:00",
          "2024-07-16T00:00:00-04:00",
          "2024-07-17T00:00:00-04:00",
          "2024-07-18T00:00:00-04:00",
          "2024-07-19T00:00:00-04:00",
          "2024-07-22T00:00:00-04:00",
          "2024-07-23T00:00:00-04:00",
          "2024-07-24T00:00:00-04:00",
          "2024-07-25T00:00:00-04:00",
          "2024-07-26T00:00:00-04:00",
          "2024-07-29T00:00:00-04:00",
          "2024-07-30T00:00:00-04:00",
          "2024-07-31T00:00:00-04:00",
          "2024-08-01T00:00:00-04:00",
          "2024-08-02T00:00:00-04:00",
          "2024-08-05T00:00:00-04:00",
          "2024-08-06T00:00:00-04:00",
          "2024-08-07T00:00:00-04:00",
          "2024-08-08T00:00:00-04:00",
          "2024-08-09T00:00:00-04:00",
          "2024-08-12T00:00:00-04:00",
          "2024-08-13T00:00:00-04:00",
          "2024-08-14T00:00:00-04:00",
          "2024-08-15T00:00:00-04:00",
          "2024-08-16T00:00:00-04:00",
          "2024-08-19T00:00:00-04:00",
          "2024-08-20T00:00:00-04:00",
          "2024-08-21T00:00:00-04:00",
          "2024-08-22T00:00:00-04:00",
          "2024-08-23T00:00:00-04:00",
          "2024-08-26T00:00:00-04:00",
          "2024-08-27T00:00:00-04:00",
          "2024-08-28T00:00:00-04:00",
          "2024-08-29T00:00:00-04:00",
          "2024-08-30T00:00:00-04:00",
          "2024-09-03T00:00:00-04:00",
          "2024-09-04T00:00:00-04:00",
          "2024-09-05T00:00:00-04:00",
          "2024-09-06T00:00:00-04:00",
          "2024-09-09T00:00:00-04:00",
          "2024-09-10T00:00:00-04:00",
          "2024-09-11T00:00:00-04:00",
          "2024-09-12T00:00:00-04:00",
          "2024-09-13T00:00:00-04:00",
          "2024-09-16T00:00:00-04:00",
          "2024-09-17T00:00:00-04:00",
          "2024-09-18T00:00:00-04:00",
          "2024-09-19T00:00:00-04:00",
          "2024-09-20T00:00:00-04:00",
          "2024-09-23T00:00:00-04:00",
          "2024-09-24T00:00:00-04:00",
          "2024-09-25T00:00:00-04:00",
          "2024-09-26T00:00:00-04:00",
          "2024-09-27T00:00:00-04:00",
          "2024-09-30T00:00:00-04:00",
          "2024-10-01T00:00:00-04:00",
          "2024-10-02T00:00:00-04:00",
          "2024-10-03T00:00:00-04:00",
          "2024-10-04T00:00:00-04:00",
          "2024-10-07T00:00:00-04:00",
          "2024-10-08T00:00:00-04:00",
          "2024-10-09T00:00:00-04:00",
          "2024-10-10T00:00:00-04:00",
          "2024-10-11T00:00:00-04:00",
          "2024-10-14T00:00:00-04:00",
          "2024-10-15T00:00:00-04:00",
          "2024-10-16T00:00:00-04:00",
          "2024-10-17T00:00:00-04:00",
          "2024-10-18T00:00:00-04:00",
          "2024-10-21T00:00:00-04:00",
          "2024-10-22T00:00:00-04:00",
          "2024-10-23T00:00:00-04:00",
          "2024-10-24T00:00:00-04:00",
          "2024-10-25T00:00:00-04:00",
          "2024-10-28T00:00:00-04:00",
          "2024-10-29T00:00:00-04:00",
          "2024-10-30T00:00:00-04:00",
          "2024-10-31T00:00:00-04:00",
          "2024-11-01T00:00:00-04:00",
          "2024-11-04T00:00:00-05:00",
          "2024-11-05T00:00:00-05:00",
          "2024-11-06T00:00:00-05:00",
          "2024-11-07T00:00:00-05:00",
          "2024-11-08T00:00:00-05:00",
          "2024-11-11T00:00:00-05:00",
          "2024-11-12T00:00:00-05:00",
          "2024-11-13T00:00:00-05:00",
          "2024-11-14T00:00:00-05:00",
          "2024-11-15T00:00:00-05:00",
          "2024-11-18T00:00:00-05:00",
          "2024-11-19T00:00:00-05:00",
          "2024-11-20T00:00:00-05:00",
          "2024-11-21T00:00:00-05:00",
          "2024-11-22T00:00:00-05:00",
          "2024-11-25T00:00:00-05:00",
          "2024-11-26T00:00:00-05:00",
          "2024-11-27T00:00:00-05:00",
          "2024-11-29T00:00:00-05:00",
          "2024-12-02T00:00:00-05:00",
          "2024-12-03T00:00:00-05:00",
          "2024-12-04T00:00:00-05:00",
          "2024-12-05T00:00:00-05:00",
          "2024-12-06T00:00:00-05:00",
          "2024-12-09T00:00:00-05:00",
          "2024-12-10T00:00:00-05:00",
          "2024-12-11T00:00:00-05:00",
          "2024-12-12T00:00:00-05:00",
          "2024-12-13T00:00:00-05:00",
          "2024-12-16T00:00:00-05:00",
          "2024-12-17T00:00:00-05:00",
          "2024-12-18T00:00:00-05:00",
          "2024-12-19T00:00:00-05:00",
          "2024-12-20T00:00:00-05:00",
          "2024-12-23T00:00:00-05:00",
          "2024-12-24T00:00:00-05:00",
          "2024-12-26T00:00:00-05:00",
          "2024-12-27T00:00:00-05:00",
          "2024-12-30T00:00:00-05:00",
          "2024-12-31T00:00:00-05:00",
          "2025-01-02T00:00:00-05:00",
          "2025-01-03T00:00:00-05:00",
          "2025-01-06T00:00:00-05:00",
          "2025-01-07T00:00:00-05:00",
          "2025-01-08T00:00:00-05:00",
          "2025-01-10T00:00:00-05:00",
          "2025-01-13T00:00:00-05:00",
          "2025-01-14T00:00:00-05:00",
          "2025-01-15T00:00:00-05:00",
          "2025-01-16T00:00:00-05:00",
          "2025-01-17T00:00:00-05:00",
          "2025-01-21T00:00:00-05:00",
          "2025-01-22T00:00:00-05:00",
          "2025-01-23T00:00:00-05:00",
          "2025-01-24T00:00:00-05:00",
          "2025-01-27T00:00:00-05:00",
          "2025-01-28T00:00:00-05:00",
          "2025-01-29T00:00:00-05:00",
          "2025-01-30T00:00:00-05:00",
          "2025-01-31T00:00:00-05:00",
          "2025-02-03T00:00:00-05:00",
          "2025-02-04T00:00:00-05:00",
          "2025-02-05T00:00:00-05:00",
          "2025-02-06T00:00:00-05:00",
          "2025-02-07T00:00:00-05:00",
          "2025-02-10T00:00:00-05:00",
          "2025-02-11T00:00:00-05:00",
          "2025-02-12T00:00:00-05:00",
          "2025-02-13T00:00:00-05:00",
          "2025-02-14T00:00:00-05:00",
          "2025-02-18T00:00:00-05:00",
          "2025-02-19T00:00:00-05:00",
          "2025-02-20T00:00:00-05:00",
          "2025-02-21T00:00:00-05:00",
          "2025-02-24T00:00:00-05:00",
          "2025-02-25T00:00:00-05:00",
          "2025-02-26T00:00:00-05:00",
          "2025-02-27T00:00:00-05:00",
          "2025-02-28T00:00:00-05:00",
          "2025-03-03T00:00:00-05:00",
          "2025-03-04T00:00:00-05:00",
          "2025-03-05T00:00:00-05:00",
          "2025-03-06T00:00:00-05:00",
          "2025-03-07T00:00:00-05:00",
          "2025-03-10T00:00:00-04:00",
          "2025-03-11T00:00:00-04:00",
          "2025-03-12T00:00:00-04:00",
          "2025-03-13T00:00:00-04:00",
          "2025-03-14T00:00:00-04:00",
          "2025-03-17T00:00:00-04:00",
          "2025-03-18T00:00:00-04:00",
          "2025-03-19T00:00:00-04:00",
          "2025-03-20T00:00:00-04:00",
          "2025-03-21T00:00:00-04:00",
          "2025-03-24T00:00:00-04:00"
         ]
        }
       ],
       "layout": {
        "template": {
         "data": {
          "bar": [
           {
            "error_x": {
             "color": "#2a3f5f"
            },
            "error_y": {
             "color": "#2a3f5f"
            },
            "marker": {
             "line": {
              "color": "#E5ECF6",
              "width": 0.5
             },
             "pattern": {
              "fillmode": "overlay",
              "size": 10,
              "solidity": 0.2
             }
            },
            "type": "bar"
           }
          ],
          "barpolar": [
           {
            "marker": {
             "line": {
              "color": "#E5ECF6",
              "width": 0.5
             },
             "pattern": {
              "fillmode": "overlay",
              "size": 10,
              "solidity": 0.2
             }
            },
            "type": "barpolar"
           }
          ],
          "carpet": [
           {
            "aaxis": {
             "endlinecolor": "#2a3f5f",
             "gridcolor": "white",
             "linecolor": "white",
             "minorgridcolor": "white",
             "startlinecolor": "#2a3f5f"
            },
            "baxis": {
             "endlinecolor": "#2a3f5f",
             "gridcolor": "white",
             "linecolor": "white",
             "minorgridcolor": "white",
             "startlinecolor": "#2a3f5f"
            },
            "type": "carpet"
           }
          ],
          "choropleth": [
           {
            "colorbar": {
             "outlinewidth": 0,
             "ticks": ""
            },
            "type": "choropleth"
           }
          ],
          "contour": [
           {
            "colorbar": {
             "outlinewidth": 0,
             "ticks": ""
            },
            "colorscale": [
             [
              0,
              "#0d0887"
             ],
             [
              0.1111111111111111,
              "#46039f"
             ],
             [
              0.2222222222222222,
              "#7201a8"
             ],
             [
              0.3333333333333333,
              "#9c179e"
             ],
             [
              0.4444444444444444,
              "#bd3786"
             ],
             [
              0.5555555555555556,
              "#d8576b"
             ],
             [
              0.6666666666666666,
              "#ed7953"
             ],
             [
              0.7777777777777778,
              "#fb9f3a"
             ],
             [
              0.8888888888888888,
              "#fdca26"
             ],
             [
              1,
              "#f0f921"
             ]
            ],
            "type": "contour"
           }
          ],
          "contourcarpet": [
           {
            "colorbar": {
             "outlinewidth": 0,
             "ticks": ""
            },
            "type": "contourcarpet"
           }
          ],
          "heatmap": [
           {
            "colorbar": {
             "outlinewidth": 0,
             "ticks": ""
            },
            "colorscale": [
             [
              0,
              "#0d0887"
             ],
             [
              0.1111111111111111,
              "#46039f"
             ],
             [
              0.2222222222222222,
              "#7201a8"
             ],
             [
              0.3333333333333333,
              "#9c179e"
             ],
             [
              0.4444444444444444,
              "#bd3786"
             ],
             [
              0.5555555555555556,
              "#d8576b"
             ],
             [
              0.6666666666666666,
              "#ed7953"
             ],
             [
              0.7777777777777778,
              "#fb9f3a"
             ],
             [
              0.8888888888888888,
              "#fdca26"
             ],
             [
              1,
              "#f0f921"
             ]
            ],
            "type": "heatmap"
           }
          ],
          "histogram": [
           {
            "marker": {
             "pattern": {
              "fillmode": "overlay",
              "size": 10,
              "solidity": 0.2
             }
            },
            "type": "histogram"
           }
          ],
          "histogram2d": [
           {
            "colorbar": {
             "outlinewidth": 0,
             "ticks": ""
            },
            "colorscale": [
             [
              0,
              "#0d0887"
             ],
             [
              0.1111111111111111,
              "#46039f"
             ],
             [
              0.2222222222222222,
              "#7201a8"
             ],
             [
              0.3333333333333333,
              "#9c179e"
             ],
             [
              0.4444444444444444,
              "#bd3786"
             ],
             [
              0.5555555555555556,
              "#d8576b"
             ],
             [
              0.6666666666666666,
              "#ed7953"
             ],
             [
              0.7777777777777778,
              "#fb9f3a"
             ],
             [
              0.8888888888888888,
              "#fdca26"
             ],
             [
              1,
              "#f0f921"
             ]
            ],
            "type": "histogram2d"
           }
          ],
          "histogram2dcontour": [
           {
            "colorbar": {
             "outlinewidth": 0,
             "ticks": ""
            },
            "colorscale": [
             [
              0,
              "#0d0887"
             ],
             [
              0.1111111111111111,
              "#46039f"
             ],
             [
              0.2222222222222222,
              "#7201a8"
             ],
             [
              0.3333333333333333,
              "#9c179e"
             ],
             [
              0.4444444444444444,
              "#bd3786"
             ],
             [
              0.5555555555555556,
              "#d8576b"
             ],
             [
              0.6666666666666666,
              "#ed7953"
             ],
             [
              0.7777777777777778,
              "#fb9f3a"
             ],
             [
              0.8888888888888888,
              "#fdca26"
             ],
             [
              1,
              "#f0f921"
             ]
            ],
            "type": "histogram2dcontour"
           }
          ],
          "mesh3d": [
           {
            "colorbar": {
             "outlinewidth": 0,
             "ticks": ""
            },
            "type": "mesh3d"
           }
          ],
          "parcoords": [
           {
            "line": {
             "colorbar": {
              "outlinewidth": 0,
              "ticks": ""
             }
            },
            "type": "parcoords"
           }
          ],
          "pie": [
           {
            "automargin": true,
            "type": "pie"
           }
          ],
          "scatter": [
           {
            "fillpattern": {
             "fillmode": "overlay",
             "size": 10,
             "solidity": 0.2
            },
            "type": "scatter"
           }
          ],
          "scatter3d": [
           {
            "line": {
             "colorbar": {
              "outlinewidth": 0,
              "ticks": ""
             }
            },
            "marker": {
             "colorbar": {
              "outlinewidth": 0,
              "ticks": ""
             }
            },
            "type": "scatter3d"
           }
          ],
          "scattercarpet": [
           {
            "marker": {
             "colorbar": {
              "outlinewidth": 0,
              "ticks": ""
             }
            },
            "type": "scattercarpet"
           }
          ],
          "scattergeo": [
           {
            "marker": {
             "colorbar": {
              "outlinewidth": 0,
              "ticks": ""
             }
            },
            "type": "scattergeo"
           }
          ],
          "scattergl": [
           {
            "marker": {
             "colorbar": {
              "outlinewidth": 0,
              "ticks": ""
             }
            },
            "type": "scattergl"
           }
          ],
          "scattermap": [
           {
            "marker": {
             "colorbar": {
              "outlinewidth": 0,
              "ticks": ""
             }
            },
            "type": "scattermap"
           }
          ],
          "scattermapbox": [
           {
            "marker": {
             "colorbar": {
              "outlinewidth": 0,
              "ticks": ""
             }
            },
            "type": "scattermapbox"
           }
          ],
          "scatterpolar": [
           {
            "marker": {
             "colorbar": {
              "outlinewidth": 0,
              "ticks": ""
             }
            },
            "type": "scatterpolar"
           }
          ],
          "scatterpolargl": [
           {
            "marker": {
             "colorbar": {
              "outlinewidth": 0,
              "ticks": ""
             }
            },
            "type": "scatterpolargl"
           }
          ],
          "scatterternary": [
           {
            "marker": {
             "colorbar": {
              "outlinewidth": 0,
              "ticks": ""
             }
            },
            "type": "scatterternary"
           }
          ],
          "surface": [
           {
            "colorbar": {
             "outlinewidth": 0,
             "ticks": ""
            },
            "colorscale": [
             [
              0,
              "#0d0887"
             ],
             [
              0.1111111111111111,
              "#46039f"
             ],
             [
              0.2222222222222222,
              "#7201a8"
             ],
             [
              0.3333333333333333,
              "#9c179e"
             ],
             [
              0.4444444444444444,
              "#bd3786"
             ],
             [
              0.5555555555555556,
              "#d8576b"
             ],
             [
              0.6666666666666666,
              "#ed7953"
             ],
             [
              0.7777777777777778,
              "#fb9f3a"
             ],
             [
              0.8888888888888888,
              "#fdca26"
             ],
             [
              1,
              "#f0f921"
             ]
            ],
            "type": "surface"
           }
          ],
          "table": [
           {
            "cells": {
             "fill": {
              "color": "#EBF0F8"
             },
             "line": {
              "color": "white"
             }
            },
            "header": {
             "fill": {
              "color": "#C8D4E3"
             },
             "line": {
              "color": "white"
             }
            },
            "type": "table"
           }
          ]
         },
         "layout": {
          "annotationdefaults": {
           "arrowcolor": "#2a3f5f",
           "arrowhead": 0,
           "arrowwidth": 1
          },
          "autotypenumbers": "strict",
          "coloraxis": {
           "colorbar": {
            "outlinewidth": 0,
            "ticks": ""
           }
          },
          "colorscale": {
           "diverging": [
            [
             0,
             "#8e0152"
            ],
            [
             0.1,
             "#c51b7d"
            ],
            [
             0.2,
             "#de77ae"
            ],
            [
             0.3,
             "#f1b6da"
            ],
            [
             0.4,
             "#fde0ef"
            ],
            [
             0.5,
             "#f7f7f7"
            ],
            [
             0.6,
             "#e6f5d0"
            ],
            [
             0.7,
             "#b8e186"
            ],
            [
             0.8,
             "#7fbc41"
            ],
            [
             0.9,
             "#4d9221"
            ],
            [
             1,
             "#276419"
            ]
           ],
           "sequential": [
            [
             0,
             "#0d0887"
            ],
            [
             0.1111111111111111,
             "#46039f"
            ],
            [
             0.2222222222222222,
             "#7201a8"
            ],
            [
             0.3333333333333333,
             "#9c179e"
            ],
            [
             0.4444444444444444,
             "#bd3786"
            ],
            [
             0.5555555555555556,
             "#d8576b"
            ],
            [
             0.6666666666666666,
             "#ed7953"
            ],
            [
             0.7777777777777778,
             "#fb9f3a"
            ],
            [
             0.8888888888888888,
             "#fdca26"
            ],
            [
             1,
             "#f0f921"
            ]
           ],
           "sequentialminus": [
            [
             0,
             "#0d0887"
            ],
            [
             0.1111111111111111,
             "#46039f"
            ],
            [
             0.2222222222222222,
             "#7201a8"
            ],
            [
             0.3333333333333333,
             "#9c179e"
            ],
            [
             0.4444444444444444,
             "#bd3786"
            ],
            [
             0.5555555555555556,
             "#d8576b"
            ],
            [
             0.6666666666666666,
             "#ed7953"
            ],
            [
             0.7777777777777778,
             "#fb9f3a"
            ],
            [
             0.8888888888888888,
             "#fdca26"
            ],
            [
             1,
             "#f0f921"
            ]
           ]
          },
          "colorway": [
           "#636efa",
           "#EF553B",
           "#00cc96",
           "#ab63fa",
           "#FFA15A",
           "#19d3f3",
           "#FF6692",
           "#B6E880",
           "#FF97FF",
           "#FECB52"
          ],
          "font": {
           "color": "#2a3f5f"
          },
          "geo": {
           "bgcolor": "white",
           "lakecolor": "white",
           "landcolor": "#E5ECF6",
           "showlakes": true,
           "showland": true,
           "subunitcolor": "white"
          },
          "hoverlabel": {
           "align": "left"
          },
          "hovermode": "closest",
          "mapbox": {
           "style": "light"
          },
          "paper_bgcolor": "white",
          "plot_bgcolor": "#E5ECF6",
          "polar": {
           "angularaxis": {
            "gridcolor": "white",
            "linecolor": "white",
            "ticks": ""
           },
           "bgcolor": "#E5ECF6",
           "radialaxis": {
            "gridcolor": "white",
            "linecolor": "white",
            "ticks": ""
           }
          },
          "scene": {
           "xaxis": {
            "backgroundcolor": "#E5ECF6",
            "gridcolor": "white",
            "gridwidth": 2,
            "linecolor": "white",
            "showbackground": true,
            "ticks": "",
            "zerolinecolor": "white"
           },
           "yaxis": {
            "backgroundcolor": "#E5ECF6",
            "gridcolor": "white",
            "gridwidth": 2,
            "linecolor": "white",
            "showbackground": true,
            "ticks": "",
            "zerolinecolor": "white"
           },
           "zaxis": {
            "backgroundcolor": "#E5ECF6",
            "gridcolor": "white",
            "gridwidth": 2,
            "linecolor": "white",
            "showbackground": true,
            "ticks": "",
            "zerolinecolor": "white"
           }
          },
          "shapedefaults": {
           "line": {
            "color": "#2a3f5f"
           }
          },
          "ternary": {
           "aaxis": {
            "gridcolor": "white",
            "linecolor": "white",
            "ticks": ""
           },
           "baxis": {
            "gridcolor": "white",
            "linecolor": "white",
            "ticks": ""
           },
           "bgcolor": "#E5ECF6",
           "caxis": {
            "gridcolor": "white",
            "linecolor": "white",
            "ticks": ""
           }
          },
          "title": {
           "x": 0.05
          },
          "xaxis": {
           "automargin": true,
           "gridcolor": "white",
           "linecolor": "white",
           "ticks": "",
           "title": {
            "standoff": 15
           },
           "zerolinecolor": "white",
           "zerolinewidth": 2
          },
          "yaxis": {
           "automargin": true,
           "gridcolor": "white",
           "linecolor": "white",
           "ticks": "",
           "title": {
            "standoff": 15
           },
           "zerolinecolor": "white",
           "zerolinewidth": 2
          }
         }
        },
        "title": {
         "text": "AAPL Candlestick Chart"
        }
       }
      }
     },
     "metadata": {},
     "output_type": "display_data"
    },
    {
     "name": "stdout",
     "output_type": "stream",
     "text": [
      "--------------------------------------------------\n",
      "Query: Show me the balance sheet for MSFT\n"
     ]
    },
    {
     "data": {
      "application/vnd.plotly.v1+json": {
       "config": {
        "plotlyServerURL": "https://plot.ly"
       },
       "data": [
        {
         "marker": {
          "color": "forestgreen"
         },
         "name": "Assets",
         "type": "bar",
         "x": [
          [
           "Jun 30, 2024",
           "Jun 30, 2023",
           "Jun 30, 2022",
           "Jun 30, 2021"
          ],
          [
           "Assets",
           "Assets",
           "Assets",
           "Assets"
          ]
         ],
         "y": [
          512163000000,
          411976000000,
          364840000000,
          333779000000
         ]
        },
        {
         "marker": {
          "color": "CornflowerBlue"
         },
         "name": "Stockholder's Equity",
         "type": "bar",
         "x": [
          [
           "Jun 30, 2024",
           "Jun 30, 2023",
           "Jun 30, 2022",
           "Jun 30, 2021"
          ],
          [
           "L+E",
           "L+E",
           "L+E",
           "L+E"
          ]
         ],
         "y": [
          268477000000,
          206223000000,
          166542000000,
          141988000000
         ]
        },
        {
         "marker": {
          "color": "tomato"
         },
         "name": "Total Liabilities",
         "type": "bar",
         "x": [
          [
           "Jun 30, 2024",
           "Jun 30, 2023",
           "Jun 30, 2022",
           "Jun 30, 2021"
          ],
          [
           "L+E",
           "L+E",
           "L+E",
           "L+E"
          ]
         ],
         "y": [
          243686000000,
          205753000000,
          198298000000,
          191791000000
         ]
        }
       ],
       "layout": {
        "annotations": [
         {
          "align": "center",
          "font": {
           "color": "black",
           "size": 12
          },
          "showarrow": false,
          "text": "512.2B",
          "x": [
           "Jun 30, 2024",
           "Assets"
          ],
          "y": 256081500000
         },
         {
          "align": "center",
          "font": {
           "color": "black",
           "size": 12
          },
          "showarrow": false,
          "text": "47.6%",
          "x": [
           "Jun 30, 2024",
           "L+E"
          ],
          "y": 390320000000
         },
         {
          "align": "center",
          "font": {
           "color": "black",
           "size": 12
          },
          "showarrow": false,
          "text": "412.0B",
          "x": [
           "Jun 30, 2023",
           "Assets"
          ],
          "y": 205988000000
         },
         {
          "align": "center",
          "font": {
           "color": "black",
           "size": 12
          },
          "showarrow": false,
          "text": "49.9%",
          "x": [
           "Jun 30, 2023",
           "L+E"
          ],
          "y": 309099500000
         },
         {
          "align": "center",
          "font": {
           "color": "black",
           "size": 12
          },
          "showarrow": false,
          "text": "-19.6%",
          "x": [
           "Jun 30, 2023",
           "Assets"
          ],
          "y": 427340890000
         },
         {
          "align": "center",
          "font": {
           "color": "black",
           "size": 12
          },
          "showarrow": false,
          "text": "364.8B",
          "x": [
           "Jun 30, 2022",
           "Assets"
          ],
          "y": 182420000000
         },
         {
          "align": "center",
          "font": {
           "color": "black",
           "size": 12
          },
          "showarrow": false,
          "text": "54.4%",
          "x": [
           "Jun 30, 2022",
           "L+E"
          ],
          "y": 265691000000
         },
         {
          "align": "center",
          "font": {
           "color": "black",
           "size": 12
          },
          "showarrow": false,
          "text": "-11.4%",
          "x": [
           "Jun 30, 2022",
           "Assets"
          ],
          "y": 380204890000
         },
         {
          "align": "center",
          "font": {
           "color": "black",
           "size": 12
          },
          "showarrow": false,
          "text": "333.8B",
          "x": [
           "Jun 30, 2021",
           "Assets"
          ],
          "y": 166889500000
         },
         {
          "align": "center",
          "font": {
           "color": "black",
           "size": 12
          },
          "showarrow": false,
          "text": "57.5%",
          "x": [
           "Jun 30, 2021",
           "L+E"
          ],
          "y": 237883500000
         },
         {
          "align": "center",
          "font": {
           "color": "black",
           "size": 12
          },
          "showarrow": false,
          "text": "-8.5%",
          "x": [
           "Jun 30, 2021",
           "Assets"
          ],
          "y": 349143890000
         }
        ],
        "barmode": "stack",
        "legend": {
         "title": {
          "text": "Balance components"
         }
        },
        "template": {
         "data": {
          "bar": [
           {
            "error_x": {
             "color": "#2a3f5f"
            },
            "error_y": {
             "color": "#2a3f5f"
            },
            "marker": {
             "line": {
              "color": "#E5ECF6",
              "width": 0.5
             },
             "pattern": {
              "fillmode": "overlay",
              "size": 10,
              "solidity": 0.2
             }
            },
            "type": "bar"
           }
          ],
          "barpolar": [
           {
            "marker": {
             "line": {
              "color": "#E5ECF6",
              "width": 0.5
             },
             "pattern": {
              "fillmode": "overlay",
              "size": 10,
              "solidity": 0.2
             }
            },
            "type": "barpolar"
           }
          ],
          "carpet": [
           {
            "aaxis": {
             "endlinecolor": "#2a3f5f",
             "gridcolor": "white",
             "linecolor": "white",
             "minorgridcolor": "white",
             "startlinecolor": "#2a3f5f"
            },
            "baxis": {
             "endlinecolor": "#2a3f5f",
             "gridcolor": "white",
             "linecolor": "white",
             "minorgridcolor": "white",
             "startlinecolor": "#2a3f5f"
            },
            "type": "carpet"
           }
          ],
          "choropleth": [
           {
            "colorbar": {
             "outlinewidth": 0,
             "ticks": ""
            },
            "type": "choropleth"
           }
          ],
          "contour": [
           {
            "colorbar": {
             "outlinewidth": 0,
             "ticks": ""
            },
            "colorscale": [
             [
              0,
              "#0d0887"
             ],
             [
              0.1111111111111111,
              "#46039f"
             ],
             [
              0.2222222222222222,
              "#7201a8"
             ],
             [
              0.3333333333333333,
              "#9c179e"
             ],
             [
              0.4444444444444444,
              "#bd3786"
             ],
             [
              0.5555555555555556,
              "#d8576b"
             ],
             [
              0.6666666666666666,
              "#ed7953"
             ],
             [
              0.7777777777777778,
              "#fb9f3a"
             ],
             [
              0.8888888888888888,
              "#fdca26"
             ],
             [
              1,
              "#f0f921"
             ]
            ],
            "type": "contour"
           }
          ],
          "contourcarpet": [
           {
            "colorbar": {
             "outlinewidth": 0,
             "ticks": ""
            },
            "type": "contourcarpet"
           }
          ],
          "heatmap": [
           {
            "colorbar": {
             "outlinewidth": 0,
             "ticks": ""
            },
            "colorscale": [
             [
              0,
              "#0d0887"
             ],
             [
              0.1111111111111111,
              "#46039f"
             ],
             [
              0.2222222222222222,
              "#7201a8"
             ],
             [
              0.3333333333333333,
              "#9c179e"
             ],
             [
              0.4444444444444444,
              "#bd3786"
             ],
             [
              0.5555555555555556,
              "#d8576b"
             ],
             [
              0.6666666666666666,
              "#ed7953"
             ],
             [
              0.7777777777777778,
              "#fb9f3a"
             ],
             [
              0.8888888888888888,
              "#fdca26"
             ],
             [
              1,
              "#f0f921"
             ]
            ],
            "type": "heatmap"
           }
          ],
          "histogram": [
           {
            "marker": {
             "pattern": {
              "fillmode": "overlay",
              "size": 10,
              "solidity": 0.2
             }
            },
            "type": "histogram"
           }
          ],
          "histogram2d": [
           {
            "colorbar": {
             "outlinewidth": 0,
             "ticks": ""
            },
            "colorscale": [
             [
              0,
              "#0d0887"
             ],
             [
              0.1111111111111111,
              "#46039f"
             ],
             [
              0.2222222222222222,
              "#7201a8"
             ],
             [
              0.3333333333333333,
              "#9c179e"
             ],
             [
              0.4444444444444444,
              "#bd3786"
             ],
             [
              0.5555555555555556,
              "#d8576b"
             ],
             [
              0.6666666666666666,
              "#ed7953"
             ],
             [
              0.7777777777777778,
              "#fb9f3a"
             ],
             [
              0.8888888888888888,
              "#fdca26"
             ],
             [
              1,
              "#f0f921"
             ]
            ],
            "type": "histogram2d"
           }
          ],
          "histogram2dcontour": [
           {
            "colorbar": {
             "outlinewidth": 0,
             "ticks": ""
            },
            "colorscale": [
             [
              0,
              "#0d0887"
             ],
             [
              0.1111111111111111,
              "#46039f"
             ],
             [
              0.2222222222222222,
              "#7201a8"
             ],
             [
              0.3333333333333333,
              "#9c179e"
             ],
             [
              0.4444444444444444,
              "#bd3786"
             ],
             [
              0.5555555555555556,
              "#d8576b"
             ],
             [
              0.6666666666666666,
              "#ed7953"
             ],
             [
              0.7777777777777778,
              "#fb9f3a"
             ],
             [
              0.8888888888888888,
              "#fdca26"
             ],
             [
              1,
              "#f0f921"
             ]
            ],
            "type": "histogram2dcontour"
           }
          ],
          "mesh3d": [
           {
            "colorbar": {
             "outlinewidth": 0,
             "ticks": ""
            },
            "type": "mesh3d"
           }
          ],
          "parcoords": [
           {
            "line": {
             "colorbar": {
              "outlinewidth": 0,
              "ticks": ""
             }
            },
            "type": "parcoords"
           }
          ],
          "pie": [
           {
            "automargin": true,
            "type": "pie"
           }
          ],
          "scatter": [
           {
            "fillpattern": {
             "fillmode": "overlay",
             "size": 10,
             "solidity": 0.2
            },
            "type": "scatter"
           }
          ],
          "scatter3d": [
           {
            "line": {
             "colorbar": {
              "outlinewidth": 0,
              "ticks": ""
             }
            },
            "marker": {
             "colorbar": {
              "outlinewidth": 0,
              "ticks": ""
             }
            },
            "type": "scatter3d"
           }
          ],
          "scattercarpet": [
           {
            "marker": {
             "colorbar": {
              "outlinewidth": 0,
              "ticks": ""
             }
            },
            "type": "scattercarpet"
           }
          ],
          "scattergeo": [
           {
            "marker": {
             "colorbar": {
              "outlinewidth": 0,
              "ticks": ""
             }
            },
            "type": "scattergeo"
           }
          ],
          "scattergl": [
           {
            "marker": {
             "colorbar": {
              "outlinewidth": 0,
              "ticks": ""
             }
            },
            "type": "scattergl"
           }
          ],
          "scattermap": [
           {
            "marker": {
             "colorbar": {
              "outlinewidth": 0,
              "ticks": ""
             }
            },
            "type": "scattermap"
           }
          ],
          "scattermapbox": [
           {
            "marker": {
             "colorbar": {
              "outlinewidth": 0,
              "ticks": ""
             }
            },
            "type": "scattermapbox"
           }
          ],
          "scatterpolar": [
           {
            "marker": {
             "colorbar": {
              "outlinewidth": 0,
              "ticks": ""
             }
            },
            "type": "scatterpolar"
           }
          ],
          "scatterpolargl": [
           {
            "marker": {
             "colorbar": {
              "outlinewidth": 0,
              "ticks": ""
             }
            },
            "type": "scatterpolargl"
           }
          ],
          "scatterternary": [
           {
            "marker": {
             "colorbar": {
              "outlinewidth": 0,
              "ticks": ""
             }
            },
            "type": "scatterternary"
           }
          ],
          "surface": [
           {
            "colorbar": {
             "outlinewidth": 0,
             "ticks": ""
            },
            "colorscale": [
             [
              0,
              "#0d0887"
             ],
             [
              0.1111111111111111,
              "#46039f"
             ],
             [
              0.2222222222222222,
              "#7201a8"
             ],
             [
              0.3333333333333333,
              "#9c179e"
             ],
             [
              0.4444444444444444,
              "#bd3786"
             ],
             [
              0.5555555555555556,
              "#d8576b"
             ],
             [
              0.6666666666666666,
              "#ed7953"
             ],
             [
              0.7777777777777778,
              "#fb9f3a"
             ],
             [
              0.8888888888888888,
              "#fdca26"
             ],
             [
              1,
              "#f0f921"
             ]
            ],
            "type": "surface"
           }
          ],
          "table": [
           {
            "cells": {
             "fill": {
              "color": "#EBF0F8"
             },
             "line": {
              "color": "white"
             }
            },
            "header": {
             "fill": {
              "color": "#C8D4E3"
             },
             "line": {
              "color": "white"
             }
            },
            "type": "table"
           }
          ]
         },
         "layout": {
          "annotationdefaults": {
           "arrowcolor": "#2a3f5f",
           "arrowhead": 0,
           "arrowwidth": 1
          },
          "autotypenumbers": "strict",
          "coloraxis": {
           "colorbar": {
            "outlinewidth": 0,
            "ticks": ""
           }
          },
          "colorscale": {
           "diverging": [
            [
             0,
             "#8e0152"
            ],
            [
             0.1,
             "#c51b7d"
            ],
            [
             0.2,
             "#de77ae"
            ],
            [
             0.3,
             "#f1b6da"
            ],
            [
             0.4,
             "#fde0ef"
            ],
            [
             0.5,
             "#f7f7f7"
            ],
            [
             0.6,
             "#e6f5d0"
            ],
            [
             0.7,
             "#b8e186"
            ],
            [
             0.8,
             "#7fbc41"
            ],
            [
             0.9,
             "#4d9221"
            ],
            [
             1,
             "#276419"
            ]
           ],
           "sequential": [
            [
             0,
             "#0d0887"
            ],
            [
             0.1111111111111111,
             "#46039f"
            ],
            [
             0.2222222222222222,
             "#7201a8"
            ],
            [
             0.3333333333333333,
             "#9c179e"
            ],
            [
             0.4444444444444444,
             "#bd3786"
            ],
            [
             0.5555555555555556,
             "#d8576b"
            ],
            [
             0.6666666666666666,
             "#ed7953"
            ],
            [
             0.7777777777777778,
             "#fb9f3a"
            ],
            [
             0.8888888888888888,
             "#fdca26"
            ],
            [
             1,
             "#f0f921"
            ]
           ],
           "sequentialminus": [
            [
             0,
             "#0d0887"
            ],
            [
             0.1111111111111111,
             "#46039f"
            ],
            [
             0.2222222222222222,
             "#7201a8"
            ],
            [
             0.3333333333333333,
             "#9c179e"
            ],
            [
             0.4444444444444444,
             "#bd3786"
            ],
            [
             0.5555555555555556,
             "#d8576b"
            ],
            [
             0.6666666666666666,
             "#ed7953"
            ],
            [
             0.7777777777777778,
             "#fb9f3a"
            ],
            [
             0.8888888888888888,
             "#fdca26"
            ],
            [
             1,
             "#f0f921"
            ]
           ]
          },
          "colorway": [
           "#636efa",
           "#EF553B",
           "#00cc96",
           "#ab63fa",
           "#FFA15A",
           "#19d3f3",
           "#FF6692",
           "#B6E880",
           "#FF97FF",
           "#FECB52"
          ],
          "font": {
           "color": "#2a3f5f"
          },
          "geo": {
           "bgcolor": "white",
           "lakecolor": "white",
           "landcolor": "#E5ECF6",
           "showlakes": true,
           "showland": true,
           "subunitcolor": "white"
          },
          "hoverlabel": {
           "align": "left"
          },
          "hovermode": "closest",
          "mapbox": {
           "style": "light"
          },
          "paper_bgcolor": "white",
          "plot_bgcolor": "#E5ECF6",
          "polar": {
           "angularaxis": {
            "gridcolor": "white",
            "linecolor": "white",
            "ticks": ""
           },
           "bgcolor": "#E5ECF6",
           "radialaxis": {
            "gridcolor": "white",
            "linecolor": "white",
            "ticks": ""
           }
          },
          "scene": {
           "xaxis": {
            "backgroundcolor": "#E5ECF6",
            "gridcolor": "white",
            "gridwidth": 2,
            "linecolor": "white",
            "showbackground": true,
            "ticks": "",
            "zerolinecolor": "white"
           },
           "yaxis": {
            "backgroundcolor": "#E5ECF6",
            "gridcolor": "white",
            "gridwidth": 2,
            "linecolor": "white",
            "showbackground": true,
            "ticks": "",
            "zerolinecolor": "white"
           },
           "zaxis": {
            "backgroundcolor": "#E5ECF6",
            "gridcolor": "white",
            "gridwidth": 2,
            "linecolor": "white",
            "showbackground": true,
            "ticks": "",
            "zerolinecolor": "white"
           }
          },
          "shapedefaults": {
           "line": {
            "color": "#2a3f5f"
           }
          },
          "ternary": {
           "aaxis": {
            "gridcolor": "white",
            "linecolor": "white",
            "ticks": ""
           },
           "baxis": {
            "gridcolor": "white",
            "linecolor": "white",
            "ticks": ""
           },
           "bgcolor": "#E5ECF6",
           "caxis": {
            "gridcolor": "white",
            "linecolor": "white",
            "ticks": ""
           }
          },
          "title": {
           "x": 0.05
          },
          "xaxis": {
           "automargin": true,
           "gridcolor": "white",
           "linecolor": "white",
           "ticks": "",
           "title": {
            "standoff": 15
           },
           "zerolinecolor": "white",
           "zerolinewidth": 2
          },
          "yaxis": {
           "automargin": true,
           "gridcolor": "white",
           "linecolor": "white",
           "ticks": "",
           "title": {
            "standoff": 15
           },
           "zerolinecolor": "white",
           "zerolinewidth": 2
          }
         }
        },
        "title": {
         "text": "Accounting Balance: MSFT"
        },
        "xaxis": {
         "title": {
          "text": "Year"
         }
        },
        "yaxis": {
         "title": {
          "text": "Amount (in USD)"
         }
        }
       }
      }
     },
     "metadata": {},
     "output_type": "display_data"
    },
    {
     "name": "stdout",
     "output_type": "stream",
     "text": [
      "--------------------------------------------------\n",
      "Query: Show me the assets for GOOGL\n"
     ]
    },
    {
     "data": {
      "application/vnd.plotly.v1+json": {
       "config": {
        "plotlyServerURL": "https://plot.ly"
       },
       "data": [
        {
         "legendgroup": "Current Assets",
         "marker": {
          "color": "rgb(29, 79, 96)"
         },
         "name": "Cash Cash Equivalents And Short Term Investments",
         "showlegend": true,
         "type": "bar",
         "x": [
          "2024-12-31T00:00:00.000000000",
          "2023-12-31T00:00:00.000000000",
          "2022-12-31T00:00:00.000000000",
          "2021-12-31T00:00:00.000000000"
         ],
         "xaxis": "x",
         "y": [
          95657000000,
          110916000000,
          113762000000,
          139649000000
         ],
         "yaxis": "y"
        },
        {
         "legendgroup": "Current Assets",
         "marker": {
          "color": "rgb(38, 107, 110)"
         },
         "name": "Receivables",
         "showlegend": true,
         "type": "bar",
         "x": [
          "2024-12-31T00:00:00.000000000",
          "2023-12-31T00:00:00.000000000",
          "2022-12-31T00:00:00.000000000",
          "2021-12-31T00:00:00.000000000"
         ],
         "xaxis": "x",
         "y": [
          52340000000,
          47964000000,
          40258000000,
          39304000000
         ],
         "yaxis": "y"
        },
        {
         "legendgroup": "Current Assets",
         "marker": {
          "color": "rgb(54, 135, 122)"
         },
         "name": "Inventory",
         "showlegend": true,
         "type": "bar",
         "x": [
          "2024-12-31T00:00:00.000000000",
          "2023-12-31T00:00:00.000000000",
          "2022-12-31T00:00:00.000000000",
          "2021-12-31T00:00:00.000000000"
         ],
         "xaxis": "x",
         "y": [
          null,
          null,
          2670000000,
          1170000000
         ],
         "yaxis": "y"
        },
        {
         "legendgroup": "Current Assets",
         "marker": {
          "color": "rgb(77, 162, 132)"
         },
         "name": "Other Current Assets",
         "showlegend": true,
         "type": "bar",
         "x": [
          "2024-12-31T00:00:00.000000000",
          "2023-12-31T00:00:00.000000000",
          "2022-12-31T00:00:00.000000000",
          "2021-12-31T00:00:00.000000000"
         ],
         "xaxis": "x",
         "y": [
          15714000000,
          12650000000,
          10775000000,
          8020000000
         ],
         "yaxis": "y"
        },
        {
         "legendgroup": "Non-current Assets",
         "marker": {
          "color": "rgb(99, 88, 159)"
         },
         "name": "Net PPE",
         "showlegend": true,
         "type": "bar",
         "x": [
          "2024-12-31T00:00:00.000000000",
          "2023-12-31T00:00:00.000000000",
          "2022-12-31T00:00:00.000000000",
          "2021-12-31T00:00:00.000000000"
         ],
         "xaxis": "x2",
         "y": [
          184624000000,
          148436000000,
          127049000000,
          110558000000
         ],
         "yaxis": "y2"
        },
        {
         "legendgroup": "Non-current Assets",
         "marker": {
          "color": "rgb(130, 109, 186)"
         },
         "name": "Goodwill And Other Intangible Assets",
         "showlegend": true,
         "type": "bar",
         "x": [
          "2024-12-31T00:00:00.000000000",
          "2023-12-31T00:00:00.000000000",
          "2022-12-31T00:00:00.000000000",
          "2021-12-31T00:00:00.000000000"
         ],
         "xaxis": "x2",
         "y": [
          31885000000,
          29198000000,
          28960000000,
          24373000000
         ],
         "yaxis": "y2"
        },
        {
         "legendgroup": "Non-current Assets",
         "marker": {
          "color": "rgb(159, 130, 206)"
         },
         "name": "Investments And Advances",
         "showlegend": true,
         "type": "bar",
         "x": [
          "2024-12-31T00:00:00.000000000",
          "2023-12-31T00:00:00.000000000",
          "2022-12-31T00:00:00.000000000",
          "2021-12-31T00:00:00.000000000"
         ],
         "xaxis": "x2",
         "y": [
          37982000000,
          31008000000,
          30492000000,
          29549000000
         ],
         "yaxis": "y2"
        },
        {
         "legendgroup": "Non-current Assets",
         "marker": {
          "color": "rgb(185, 152, 221)"
         },
         "name": "Other Non Current Assets",
         "showlegend": true,
         "type": "bar",
         "x": [
          "2024-12-31T00:00:00.000000000",
          "2023-12-31T00:00:00.000000000",
          "2022-12-31T00:00:00.000000000",
          "2021-12-31T00:00:00.000000000"
         ],
         "xaxis": "x2",
         "y": [
          14874000000,
          10051000000,
          8707000000,
          5361000000
         ],
         "yaxis": "y2"
        }
       ],
       "layout": {
        "annotations": [
         {
          "font": {
           "size": 16
          },
          "showarrow": false,
          "text": "Current Assets",
          "x": 0.2375,
          "xanchor": "center",
          "xref": "paper",
          "y": 1,
          "yanchor": "bottom",
          "yref": "paper"
         },
         {
          "font": {
           "size": 16
          },
          "showarrow": false,
          "text": "Non-Current Assets",
          "x": 0.7625,
          "xanchor": "center",
          "xref": "paper",
          "y": 1,
          "yanchor": "bottom",
          "yref": "paper"
         },
         {
          "align": "center",
          "font": {
           "color": "black",
           "size": 12
          },
          "showarrow": false,
          "text": "163.7B",
          "x": "2024-12-31T00:00:00",
          "xref": "x",
          "y": 172307350000,
          "yref": "y"
         },
         {
          "align": "center",
          "font": {
           "color": "black",
           "size": 12
          },
          "showarrow": false,
          "text": "286.5B",
          "x": "2024-12-31T00:00:00",
          "xref": "x2",
          "y": 295141350000,
          "yref": "y2"
         },
         {
          "align": "center",
          "font": {
           "color": "black",
           "size": 12
          },
          "showarrow": false,
          "text": "171.5B",
          "x": "2023-12-31T00:00:00",
          "xref": "x",
          "y": 180126350000,
          "yref": "y"
         },
         {
          "align": "center",
          "font": {
           "color": "black",
           "size": 12
          },
          "showarrow": false,
          "text": "230.9B",
          "x": "2023-12-31T00:00:00",
          "xref": "x2",
          "y": 239458350000,
          "yref": "y2"
         },
         {
          "align": "center",
          "font": {
           "color": "black",
           "size": 12
          },
          "showarrow": false,
          "text": "164.8B",
          "x": "2022-12-31T00:00:00",
          "xref": "x",
          "y": 173391350000,
          "yref": "y"
         },
         {
          "align": "center",
          "font": {
           "color": "black",
           "size": 12
          },
          "showarrow": false,
          "text": "200.5B",
          "x": "2022-12-31T00:00:00",
          "xref": "x2",
          "y": 209065350000,
          "yref": "y2"
         },
         {
          "align": "center",
          "font": {
           "color": "black",
           "size": 12
          },
          "showarrow": false,
          "text": "188.1B",
          "x": "2021-12-31T00:00:00",
          "xref": "x",
          "y": 196739350000,
          "yref": "y"
         },
         {
          "align": "center",
          "font": {
           "color": "black",
           "size": 12
          },
          "showarrow": false,
          "text": "171.1B",
          "x": "2021-12-31T00:00:00",
          "xref": "x2",
          "y": 179721350000,
          "yref": "y2"
         }
        ],
        "barmode": "stack",
        "legend": {
         "title": {
          "text": "Asset Components"
         }
        },
        "template": {
         "data": {
          "bar": [
           {
            "error_x": {
             "color": "#2a3f5f"
            },
            "error_y": {
             "color": "#2a3f5f"
            },
            "marker": {
             "line": {
              "color": "#E5ECF6",
              "width": 0.5
             },
             "pattern": {
              "fillmode": "overlay",
              "size": 10,
              "solidity": 0.2
             }
            },
            "type": "bar"
           }
          ],
          "barpolar": [
           {
            "marker": {
             "line": {
              "color": "#E5ECF6",
              "width": 0.5
             },
             "pattern": {
              "fillmode": "overlay",
              "size": 10,
              "solidity": 0.2
             }
            },
            "type": "barpolar"
           }
          ],
          "carpet": [
           {
            "aaxis": {
             "endlinecolor": "#2a3f5f",
             "gridcolor": "white",
             "linecolor": "white",
             "minorgridcolor": "white",
             "startlinecolor": "#2a3f5f"
            },
            "baxis": {
             "endlinecolor": "#2a3f5f",
             "gridcolor": "white",
             "linecolor": "white",
             "minorgridcolor": "white",
             "startlinecolor": "#2a3f5f"
            },
            "type": "carpet"
           }
          ],
          "choropleth": [
           {
            "colorbar": {
             "outlinewidth": 0,
             "ticks": ""
            },
            "type": "choropleth"
           }
          ],
          "contour": [
           {
            "colorbar": {
             "outlinewidth": 0,
             "ticks": ""
            },
            "colorscale": [
             [
              0,
              "#0d0887"
             ],
             [
              0.1111111111111111,
              "#46039f"
             ],
             [
              0.2222222222222222,
              "#7201a8"
             ],
             [
              0.3333333333333333,
              "#9c179e"
             ],
             [
              0.4444444444444444,
              "#bd3786"
             ],
             [
              0.5555555555555556,
              "#d8576b"
             ],
             [
              0.6666666666666666,
              "#ed7953"
             ],
             [
              0.7777777777777778,
              "#fb9f3a"
             ],
             [
              0.8888888888888888,
              "#fdca26"
             ],
             [
              1,
              "#f0f921"
             ]
            ],
            "type": "contour"
           }
          ],
          "contourcarpet": [
           {
            "colorbar": {
             "outlinewidth": 0,
             "ticks": ""
            },
            "type": "contourcarpet"
           }
          ],
          "heatmap": [
           {
            "colorbar": {
             "outlinewidth": 0,
             "ticks": ""
            },
            "colorscale": [
             [
              0,
              "#0d0887"
             ],
             [
              0.1111111111111111,
              "#46039f"
             ],
             [
              0.2222222222222222,
              "#7201a8"
             ],
             [
              0.3333333333333333,
              "#9c179e"
             ],
             [
              0.4444444444444444,
              "#bd3786"
             ],
             [
              0.5555555555555556,
              "#d8576b"
             ],
             [
              0.6666666666666666,
              "#ed7953"
             ],
             [
              0.7777777777777778,
              "#fb9f3a"
             ],
             [
              0.8888888888888888,
              "#fdca26"
             ],
             [
              1,
              "#f0f921"
             ]
            ],
            "type": "heatmap"
           }
          ],
          "histogram": [
           {
            "marker": {
             "pattern": {
              "fillmode": "overlay",
              "size": 10,
              "solidity": 0.2
             }
            },
            "type": "histogram"
           }
          ],
          "histogram2d": [
           {
            "colorbar": {
             "outlinewidth": 0,
             "ticks": ""
            },
            "colorscale": [
             [
              0,
              "#0d0887"
             ],
             [
              0.1111111111111111,
              "#46039f"
             ],
             [
              0.2222222222222222,
              "#7201a8"
             ],
             [
              0.3333333333333333,
              "#9c179e"
             ],
             [
              0.4444444444444444,
              "#bd3786"
             ],
             [
              0.5555555555555556,
              "#d8576b"
             ],
             [
              0.6666666666666666,
              "#ed7953"
             ],
             [
              0.7777777777777778,
              "#fb9f3a"
             ],
             [
              0.8888888888888888,
              "#fdca26"
             ],
             [
              1,
              "#f0f921"
             ]
            ],
            "type": "histogram2d"
           }
          ],
          "histogram2dcontour": [
           {
            "colorbar": {
             "outlinewidth": 0,
             "ticks": ""
            },
            "colorscale": [
             [
              0,
              "#0d0887"
             ],
             [
              0.1111111111111111,
              "#46039f"
             ],
             [
              0.2222222222222222,
              "#7201a8"
             ],
             [
              0.3333333333333333,
              "#9c179e"
             ],
             [
              0.4444444444444444,
              "#bd3786"
             ],
             [
              0.5555555555555556,
              "#d8576b"
             ],
             [
              0.6666666666666666,
              "#ed7953"
             ],
             [
              0.7777777777777778,
              "#fb9f3a"
             ],
             [
              0.8888888888888888,
              "#fdca26"
             ],
             [
              1,
              "#f0f921"
             ]
            ],
            "type": "histogram2dcontour"
           }
          ],
          "mesh3d": [
           {
            "colorbar": {
             "outlinewidth": 0,
             "ticks": ""
            },
            "type": "mesh3d"
           }
          ],
          "parcoords": [
           {
            "line": {
             "colorbar": {
              "outlinewidth": 0,
              "ticks": ""
             }
            },
            "type": "parcoords"
           }
          ],
          "pie": [
           {
            "automargin": true,
            "type": "pie"
           }
          ],
          "scatter": [
           {
            "fillpattern": {
             "fillmode": "overlay",
             "size": 10,
             "solidity": 0.2
            },
            "type": "scatter"
           }
          ],
          "scatter3d": [
           {
            "line": {
             "colorbar": {
              "outlinewidth": 0,
              "ticks": ""
             }
            },
            "marker": {
             "colorbar": {
              "outlinewidth": 0,
              "ticks": ""
             }
            },
            "type": "scatter3d"
           }
          ],
          "scattercarpet": [
           {
            "marker": {
             "colorbar": {
              "outlinewidth": 0,
              "ticks": ""
             }
            },
            "type": "scattercarpet"
           }
          ],
          "scattergeo": [
           {
            "marker": {
             "colorbar": {
              "outlinewidth": 0,
              "ticks": ""
             }
            },
            "type": "scattergeo"
           }
          ],
          "scattergl": [
           {
            "marker": {
             "colorbar": {
              "outlinewidth": 0,
              "ticks": ""
             }
            },
            "type": "scattergl"
           }
          ],
          "scattermap": [
           {
            "marker": {
             "colorbar": {
              "outlinewidth": 0,
              "ticks": ""
             }
            },
            "type": "scattermap"
           }
          ],
          "scattermapbox": [
           {
            "marker": {
             "colorbar": {
              "outlinewidth": 0,
              "ticks": ""
             }
            },
            "type": "scattermapbox"
           }
          ],
          "scatterpolar": [
           {
            "marker": {
             "colorbar": {
              "outlinewidth": 0,
              "ticks": ""
             }
            },
            "type": "scatterpolar"
           }
          ],
          "scatterpolargl": [
           {
            "marker": {
             "colorbar": {
              "outlinewidth": 0,
              "ticks": ""
             }
            },
            "type": "scatterpolargl"
           }
          ],
          "scatterternary": [
           {
            "marker": {
             "colorbar": {
              "outlinewidth": 0,
              "ticks": ""
             }
            },
            "type": "scatterternary"
           }
          ],
          "surface": [
           {
            "colorbar": {
             "outlinewidth": 0,
             "ticks": ""
            },
            "colorscale": [
             [
              0,
              "#0d0887"
             ],
             [
              0.1111111111111111,
              "#46039f"
             ],
             [
              0.2222222222222222,
              "#7201a8"
             ],
             [
              0.3333333333333333,
              "#9c179e"
             ],
             [
              0.4444444444444444,
              "#bd3786"
             ],
             [
              0.5555555555555556,
              "#d8576b"
             ],
             [
              0.6666666666666666,
              "#ed7953"
             ],
             [
              0.7777777777777778,
              "#fb9f3a"
             ],
             [
              0.8888888888888888,
              "#fdca26"
             ],
             [
              1,
              "#f0f921"
             ]
            ],
            "type": "surface"
           }
          ],
          "table": [
           {
            "cells": {
             "fill": {
              "color": "#EBF0F8"
             },
             "line": {
              "color": "white"
             }
            },
            "header": {
             "fill": {
              "color": "#C8D4E3"
             },
             "line": {
              "color": "white"
             }
            },
            "type": "table"
           }
          ]
         },
         "layout": {
          "annotationdefaults": {
           "arrowcolor": "#2a3f5f",
           "arrowhead": 0,
           "arrowwidth": 1
          },
          "autotypenumbers": "strict",
          "coloraxis": {
           "colorbar": {
            "outlinewidth": 0,
            "ticks": ""
           }
          },
          "colorscale": {
           "diverging": [
            [
             0,
             "#8e0152"
            ],
            [
             0.1,
             "#c51b7d"
            ],
            [
             0.2,
             "#de77ae"
            ],
            [
             0.3,
             "#f1b6da"
            ],
            [
             0.4,
             "#fde0ef"
            ],
            [
             0.5,
             "#f7f7f7"
            ],
            [
             0.6,
             "#e6f5d0"
            ],
            [
             0.7,
             "#b8e186"
            ],
            [
             0.8,
             "#7fbc41"
            ],
            [
             0.9,
             "#4d9221"
            ],
            [
             1,
             "#276419"
            ]
           ],
           "sequential": [
            [
             0,
             "#0d0887"
            ],
            [
             0.1111111111111111,
             "#46039f"
            ],
            [
             0.2222222222222222,
             "#7201a8"
            ],
            [
             0.3333333333333333,
             "#9c179e"
            ],
            [
             0.4444444444444444,
             "#bd3786"
            ],
            [
             0.5555555555555556,
             "#d8576b"
            ],
            [
             0.6666666666666666,
             "#ed7953"
            ],
            [
             0.7777777777777778,
             "#fb9f3a"
            ],
            [
             0.8888888888888888,
             "#fdca26"
            ],
            [
             1,
             "#f0f921"
            ]
           ],
           "sequentialminus": [
            [
             0,
             "#0d0887"
            ],
            [
             0.1111111111111111,
             "#46039f"
            ],
            [
             0.2222222222222222,
             "#7201a8"
            ],
            [
             0.3333333333333333,
             "#9c179e"
            ],
            [
             0.4444444444444444,
             "#bd3786"
            ],
            [
             0.5555555555555556,
             "#d8576b"
            ],
            [
             0.6666666666666666,
             "#ed7953"
            ],
            [
             0.7777777777777778,
             "#fb9f3a"
            ],
            [
             0.8888888888888888,
             "#fdca26"
            ],
            [
             1,
             "#f0f921"
            ]
           ]
          },
          "colorway": [
           "#636efa",
           "#EF553B",
           "#00cc96",
           "#ab63fa",
           "#FFA15A",
           "#19d3f3",
           "#FF6692",
           "#B6E880",
           "#FF97FF",
           "#FECB52"
          ],
          "font": {
           "color": "#2a3f5f"
          },
          "geo": {
           "bgcolor": "white",
           "lakecolor": "white",
           "landcolor": "#E5ECF6",
           "showlakes": true,
           "showland": true,
           "subunitcolor": "white"
          },
          "hoverlabel": {
           "align": "left"
          },
          "hovermode": "closest",
          "mapbox": {
           "style": "light"
          },
          "paper_bgcolor": "white",
          "plot_bgcolor": "#E5ECF6",
          "polar": {
           "angularaxis": {
            "gridcolor": "white",
            "linecolor": "white",
            "ticks": ""
           },
           "bgcolor": "#E5ECF6",
           "radialaxis": {
            "gridcolor": "white",
            "linecolor": "white",
            "ticks": ""
           }
          },
          "scene": {
           "xaxis": {
            "backgroundcolor": "#E5ECF6",
            "gridcolor": "white",
            "gridwidth": 2,
            "linecolor": "white",
            "showbackground": true,
            "ticks": "",
            "zerolinecolor": "white"
           },
           "yaxis": {
            "backgroundcolor": "#E5ECF6",
            "gridcolor": "white",
            "gridwidth": 2,
            "linecolor": "white",
            "showbackground": true,
            "ticks": "",
            "zerolinecolor": "white"
           },
           "zaxis": {
            "backgroundcolor": "#E5ECF6",
            "gridcolor": "white",
            "gridwidth": 2,
            "linecolor": "white",
            "showbackground": true,
            "ticks": "",
            "zerolinecolor": "white"
           }
          },
          "shapedefaults": {
           "line": {
            "color": "#2a3f5f"
           }
          },
          "ternary": {
           "aaxis": {
            "gridcolor": "white",
            "linecolor": "white",
            "ticks": ""
           },
           "baxis": {
            "gridcolor": "white",
            "linecolor": "white",
            "ticks": ""
           },
           "bgcolor": "#E5ECF6",
           "caxis": {
            "gridcolor": "white",
            "linecolor": "white",
            "ticks": ""
           }
          },
          "title": {
           "x": 0.05
          },
          "xaxis": {
           "automargin": true,
           "gridcolor": "white",
           "linecolor": "white",
           "ticks": "",
           "title": {
            "standoff": 15
           },
           "zerolinecolor": "white",
           "zerolinewidth": 2
          },
          "yaxis": {
           "automargin": true,
           "gridcolor": "white",
           "linecolor": "white",
           "ticks": "",
           "title": {
            "standoff": 15
           },
           "zerolinecolor": "white",
           "zerolinewidth": 2
          }
         }
        },
        "title": {
         "text": "Assets: GOOGL"
        },
        "xaxis": {
         "anchor": "y",
         "domain": [
          0,
          0.475
         ],
         "tickvals": [
          "2024-12-31T00:00:00.000000000",
          "2023-12-31T00:00:00.000000000",
          "2022-12-31T00:00:00.000000000",
          "2021-12-31T00:00:00.000000000"
         ],
         "title": {
          "text": "Date"
         },
         "type": "date"
        },
        "xaxis2": {
         "anchor": "y2",
         "domain": [
          0.525,
          1
         ],
         "tickvals": [
          "2024-12-31T00:00:00.000000000",
          "2023-12-31T00:00:00.000000000",
          "2022-12-31T00:00:00.000000000",
          "2021-12-31T00:00:00.000000000"
         ],
         "title": {
          "text": "Date"
         },
         "type": "date"
        },
        "yaxis": {
         "anchor": "x",
         "domain": [
          0,
          1
         ],
         "title": {
          "text": "Amount (in USD)"
         }
        },
        "yaxis2": {
         "anchor": "x2",
         "domain": [
          0,
          1
         ],
         "matches": "y",
         "showticklabels": false
        }
       }
      }
     },
     "metadata": {},
     "output_type": "display_data"
    },
    {
     "name": "stdout",
     "output_type": "stream",
     "text": [
      "--------------------------------------------------\n"
     ]
    }
   ],
   "source": [
    "import plotly.graph_objects as go\n",
    "from plotly.subplots import make_subplots\n",
    "import plotly.colors as pc\n",
    "import yfinance as yf\n",
    "import pandas as pd\n",
    "import plotly.io as pio\n",
    "from typing import TypedDict, Annotated, Optional\n",
    "from langgraph.graph import StateGraph, END\n",
    "\n",
    "\n",
    "class GraphState(TypedDict):\n",
    "    query: str\n",
    "    plot_type: Optional[str]\n",
    "    ticker: Optional[str]\n",
    "    plot_json: Optional[str]\n",
    "    response: Optional[str]\n",
    "\n",
    "# LangGraph nodes (unchanged from previous code)\n",
    "def parse_query(state: GraphState) -> GraphState:\n",
    "    query = state[\"query\"].lower()\n",
    "    ticker = query.split()[-1].upper()\n",
    "    if \"candlestick chart\" in query:\n",
    "        return {\"plot_type\": \"candlestick\", \"ticker\": ticker}\n",
    "    elif \"balance sheet\" in query:\n",
    "        return {\"plot_type\": \"balance\", \"ticker\": ticker}\n",
    "    elif \"assets\" in query:\n",
    "        return {\"plot_type\": \"assets\", \"ticker\": ticker}\n",
    "    else:\n",
    "        return {\"plot_type\": None, \"ticker\": None}\n",
    "\n",
    "def generate_plot(state: GraphState) -> GraphState:\n",
    "    if not state[\"plot_type\"] or not state[\"ticker\"]:\n",
    "        return {\"response\": \"I can generate candlestick charts, balance sheets, or assets visualizations. Please specify what you'd like to see (e.g., 'Show me a candlestick chart for AAPL')\"}\n",
    "    \n",
    "    ticker = state[\"ticker\"]\n",
    "    plot_type = state[\"plot_type\"]\n",
    "    \n",
    "    try:\n",
    "        if plot_type == \"candlestick\":\n",
    "            df = fetch_stock_data(ticker)\n",
    "            fig = plot_candles_stick(df, title=f\"{ticker} Candlestick Chart\")\n",
    "        elif plot_type == \"balance\":\n",
    "            df = fetch_balance(ticker)\n",
    "            fig = plot_balance(df, ticker=ticker, currency=\"USD\")\n",
    "        elif plot_type == \"assets\":\n",
    "            df = fetch_balance(ticker)\n",
    "            fig = plot_assets(df, ticker=ticker, currency=\"USD\")\n",
    "        \n",
    "        plot_json = fig.to_json()\n",
    "        return {\"plot_json\": plot_json}\n",
    "    except Exception as e:\n",
    "        return {\"response\": f\"Error generating plot: {str(e)}\"}\n",
    "\n",
    "def format_response(state: GraphState) -> GraphState:\n",
    "    if state.get(\"plot_json\"):\n",
    "        return {\"response\": state[\"plot_json\"]}\n",
    "    elif state.get(\"response\"):\n",
    "        return {\"response\": state[\"response\"]}\n",
    "    else:\n",
    "        return {\"response\": \"Something went wrong while processing your request\"}\n",
    "\n",
    "\n",
    "# Build and compile the graph\n",
    "workflow = StateGraph(GraphState)\n",
    "workflow.add_node(\"parse_query\", parse_query)\n",
    "workflow.add_node(\"generate_plot\", generate_plot)\n",
    "workflow.add_node(\"format_response\", format_response)\n",
    "workflow.set_entry_point(\"parse_query\")\n",
    "workflow.add_edge(\"parse_query\", \"generate_plot\")\n",
    "workflow.add_edge(\"generate_plot\", \"format_response\")\n",
    "workflow.add_edge(\"format_response\", END)\n",
    "app = workflow.compile()\n",
    "\n",
    "def chatbot_response(user_query: str) -> str:\n",
    "    initial_state = {\"query\": user_query}\n",
    "    result = app.invoke(initial_state)\n",
    "    return result[\"response\"]\n",
    "\n",
    "# Example usage\n",
    "if __name__ == \"__main__\":\n",
    "\n",
    "    queries = [\n",
    "        \"Show me a candlestick chart for AAPL\",\n",
    "        \"Show me the balance sheet for MSFT\",\n",
    "        \"Show me the assets for GOOGL\"\n",
    "    ]\n",
    "    \n",
    "    for query in queries:\n",
    "        response = chatbot_response(query)\n",
    "        print(f\"Query: {query}\")\n",
    "        if isinstance(response, str) and \"{\" in response:\n",
    "            try:\n",
    "                fig = pio.from_json(response)\n",
    "                fig.show()\n",
    "            except:\n",
    "                print(f\"Response: {response}\")\n",
    "        else:\n",
    "            print(f\"Response: {response}\")\n",
    "        print(\"-\" * 50)"
   ]
  },
  {
   "cell_type": "code",
   "execution_count": null,
   "metadata": {},
   "outputs": [],
   "source": []
  }
 ],
 "metadata": {
  "kernelspec": {
   "display_name": "Python 3",
   "language": "python",
   "name": "python3"
  },
  "language_info": {
   "codemirror_mode": {
    "name": "ipython",
    "version": 3
   },
   "file_extension": ".py",
   "mimetype": "text/x-python",
   "name": "python",
   "nbconvert_exporter": "python",
   "pygments_lexer": "ipython3",
   "version": "3.11.11"
  }
 },
 "nbformat": 4,
 "nbformat_minor": 2
}
